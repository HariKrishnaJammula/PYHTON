{
 "cells": [
  {
   "cell_type": "markdown",
   "metadata": {},
   "source": [
    "# GIT introduction:::"
   ]
  },
  {
   "cell_type": "code",
   "execution_count": null,
   "metadata": {},
   "outputs": [],
   "source": [
    "# first download git \n",
    "# for checking it go to cmd promt and type git --version\n",
    "---------------------------------------------------------\n",
    "\n",
    "# Git def::Git is a distributed version-control system for tracking changes in source code during software development.\n",
    "# It is designed for coordinating work among programmers,\n",
    "# but it can be used to track changes in any set of files. \n",
    "# Its goals include speed, data integrity, and support for distributed, non-linear workflows.\n",
    "\n",
    "\n",
    "## github or bitbucket or gitlab ---   code version controller.... \n",
    "\n",
    "# 1st-- login functionality\n",
    "# 2nd -- frogot pwd\n",
    "# 3rd -- update details\n",
    "\n"
   ]
  }
 ],
 "metadata": {
  "kernelspec": {
   "display_name": "Python 3",
   "language": "python",
   "name": "python3"
  },
  "language_info": {
   "codemirror_mode": {
    "name": "ipython",
    "version": 3
   },
   "file_extension": ".py",
   "mimetype": "text/x-python",
   "name": "python",
   "nbconvert_exporter": "python",
   "pygments_lexer": "ipython3",
   "version": "3.7.4"
  }
 },
 "nbformat": 4,
 "nbformat_minor": 2
}
