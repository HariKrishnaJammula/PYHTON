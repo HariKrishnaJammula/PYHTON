{
 "cells": [
  {
   "cell_type": "markdown",
   "metadata": {},
   "source": [
    "# looping statements \n",
    "\n",
    "\n",
    "    iterations ----Executing certain set of statements multiple time \n",
    "    \n",
    "    # while loop \n",
    "    # for loop\n",
    "    \n",
    "    \n",
    "    \n",
    "    # while loop --- continues loop \n",
    "    \n",
    "    -------------\n",
    "    while condition:\n",
    "        statements \n",
    "    -------------\n",
    "    \n",
    "    # for loop ----it will work for sequences only \n",
    "                   except numbers all the data types are sequences \n",
    "                   \n",
    "      ------------------------------\n",
    "      \n",
    "      for element in sequence:\n",
    "             statements \n",
    "      element can be anything \n",
    "      nut need to follow the 5 rules of variable declaration \n",
    "      -----------------------------\n"
   ]
  },
  {
   "cell_type": "code",
   "execution_count": null,
   "metadata": {},
   "outputs": [],
   "source": []
  },
  {
   "cell_type": "code",
   "execution_count": 1,
   "metadata": {},
   "outputs": [
    {
     "data": {
      "text/plain": [
       "23658"
      ]
     },
     "execution_count": 1,
     "metadata": {},
     "output_type": "execute_result"
    }
   ],
   "source": [
    "112+23546"
   ]
  },
  {
   "cell_type": "code",
   "execution_count": 3,
   "metadata": {},
   "outputs": [
    {
     "name": "stdout",
     "output_type": "stream",
     "text": [
      "p/ny/nt/nh/no/nn/n /ni/ns/n /na/n /np/nr/no/ng/nr/na/nm/nm/ni/nn/ng/n /nl/na/nn/ng/nu/na/ng/ne/n /n"
     ]
    }
   ],
   "source": [
    "a=\"python is a programming language \"\n",
    "\n",
    "for i in a:\n",
    "    print(i, end=\"/n\")"
   ]
  },
  {
   "cell_type": "code",
   "execution_count": 4,
   "metadata": {},
   "outputs": [
    {
     "name": "stdout",
     "output_type": "stream",
     "text": [
      "5-4.5-python-django-"
     ]
    }
   ],
   "source": [
    "a=[5,4.5,'python','django']\n",
    "\n",
    "for i in a:\n",
    "    print(i, end=\"-\")"
   ]
  },
  {
   "cell_type": "code",
   "execution_count": 1,
   "metadata": {},
   "outputs": [
    {
     "data": {
      "text/plain": [
       "range(1, 21)"
      ]
     },
     "execution_count": 1,
     "metadata": {},
     "output_type": "execute_result"
    }
   ],
   "source": [
    "range(1,21\n",
    "     )"
   ]
  },
  {
   "cell_type": "markdown",
   "metadata": {},
   "source": [
    "# range \n"
   ]
  },
  {
   "cell_type": "code",
   "execution_count": 2,
   "metadata": {},
   "outputs": [
    {
     "data": {
      "text/plain": [
       "range(1, 17)"
      ]
     },
     "execution_count": 2,
     "metadata": {},
     "output_type": "execute_result"
    }
   ],
   "source": [
    "range(1,17)"
   ]
  },
  {
   "cell_type": "code",
   "execution_count": 3,
   "metadata": {},
   "outputs": [
    {
     "name": "stdout",
     "output_type": "stream",
     "text": [
      "1 2 3 4 5 6 7 8 9 10 11 12 13 14 15 16 "
     ]
    }
   ],
   "source": [
    "for j in range(1,17):\n",
    "    print (j, end=\" \")"
   ]
  },
  {
   "cell_type": "code",
   "execution_count": 5,
   "metadata": {},
   "outputs": [
    {
     "name": "stdout",
     "output_type": "stream",
     "text": [
      "enter list12,12,12,12,12\n",
      "(12, 12, 12, 12, 12)\n"
     ]
    }
   ],
   "source": [
    "list=eval(input(\"enter list\"))\n",
    "sum=0\n",
    "print (list)"
   ]
  },
  {
   "cell_type": "code",
   "execution_count": null,
   "metadata": {},
   "outputs": [],
   "source": [
    "Number = int(input(\" Please Enter any Number: \"))\n",
    "count = 0\n",
    "\n",
    "for i in range(2, (Number//2 + 1)):\n",
    "    if(Number % i == 0):\n",
    "        count = count + 1\n",
    "        break\n",
    "\n",
    "if (count == 0 and Number != 1):\n",
    "    print(\" %d is a Prime Number\" %Number)\n",
    "else:\n",
    "    print(\" %d is not a Prime Number\" %Number)"
   ]
  },
  {
   "cell_type": "code",
   "execution_count": null,
   "metadata": {},
   "outputs": [],
   "source": [
    "number =  input('Please enter a number: ')\n",
    "\n",
    "i = 2\n",
    "\n",
    "while i<number:\n",
    "    if number%i == 0:\n",
    "        print (\"Your number is NOT a prime number!\")\n",
    "        i = i + 1\n",
    "        print (\"Your number is a prime number!\")"
   ]
  },
  {
   "cell_type": "code",
   "execution_count": null,
   "metadata": {},
   "outputs": [],
   "source": []
  }
 ],
 "metadata": {
  "kernelspec": {
   "display_name": "Python 3",
   "language": "python",
   "name": "python3"
  },
  "language_info": {
   "codemirror_mode": {
    "name": "ipython",
    "version": 3
   },
   "file_extension": ".py",
   "mimetype": "text/x-python",
   "name": "python",
   "nbconvert_exporter": "python",
   "pygments_lexer": "ipython3",
   "version": "3.7.4"
  }
 },
 "nbformat": 4,
 "nbformat_minor": 2
}
