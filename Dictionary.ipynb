{
 "cells": [
  {
   "cell_type": "markdown",
   "metadata": {},
   "source": [
    "# Dictionary -- \n",
    "                         Sequence of key:value pair separated with comma(,) declared                                                                           \n",
    "                                      inside { }...\n",
    "\n",
    "# Ex: {\"city\":\"Hyderbad\",\"State\":\"Telangana\"}"
   ]
  },
  {
   "cell_type": "code",
   "execution_count": 2,
   "metadata": {},
   "outputs": [
    {
     "name": "stdout",
     "output_type": "stream",
     "text": [
      "{1: 'django', 'city': 'Hyderabad', (1, 2, 3): [11, 12, 13]}\n"
     ]
    }
   ],
   "source": [
    "a={1:\"python\",\"city\":\"Hyderabad\",(1,2,3):[11,12,13],1:\"django\"}\n",
    "print(a)\n",
    "\n",
    "\n",
    "\n",
    "# We shoudl not declare duplicate key names, If we declare as well. \n",
    "    ## it will consider the Lastest Key:Value Pair into consideration..\n"
   ]
  },
  {
   "cell_type": "markdown",
   "metadata": {},
   "source": [
    "# Limitations of Dictionary.. \n",
    "\n",
    "    # All the keys inside the dictionaries should be immutable only.(Key should be immutable only..) \n",
    "    # Duplicate Keys declaration is not valid..\n"
   ]
  },
  {
   "cell_type": "code",
   "execution_count": 4,
   "metadata": {},
   "outputs": [
    {
     "ename": "TypeError",
     "evalue": "unhashable type: 'list'",
     "output_type": "error",
     "traceback": [
      "\u001b[1;31m---------------------------------------------------------------------------\u001b[0m",
      "\u001b[1;31mTypeError\u001b[0m                                 Traceback (most recent call last)",
      "\u001b[1;32m<ipython-input-4-0520dfa1bcb4>\u001b[0m in \u001b[0;36m<module>\u001b[1;34m\u001b[0m\n\u001b[1;32m----> 1\u001b[1;33m \u001b[0ma\u001b[0m\u001b[1;33m=\u001b[0m\u001b[1;33m{\u001b[0m\u001b[1;36m1\u001b[0m\u001b[1;33m:\u001b[0m\u001b[1;34m\"python\"\u001b[0m\u001b[1;33m,\u001b[0m\u001b[1;34m\"city\"\u001b[0m\u001b[1;33m:\u001b[0m\u001b[1;34m\"Hyderabad\"\u001b[0m\u001b[1;33m,\u001b[0m\u001b[1;33m[\u001b[0m\u001b[1;36m1\u001b[0m\u001b[1;33m,\u001b[0m\u001b[1;36m2\u001b[0m\u001b[1;33m,\u001b[0m\u001b[1;36m3\u001b[0m\u001b[1;33m]\u001b[0m\u001b[1;33m:\u001b[0m\u001b[1;33m[\u001b[0m\u001b[1;36m11\u001b[0m\u001b[1;33m,\u001b[0m\u001b[1;36m12\u001b[0m\u001b[1;33m,\u001b[0m\u001b[1;36m13\u001b[0m\u001b[1;33m]\u001b[0m\u001b[1;33m}\u001b[0m\u001b[1;33m\u001b[0m\u001b[1;33m\u001b[0m\u001b[0m\n\u001b[0m\u001b[0;32m      2\u001b[0m \u001b[1;31m#-- invalid declaratation\u001b[0m\u001b[1;33m\u001b[0m\u001b[1;33m\u001b[0m\u001b[1;33m\u001b[0m\u001b[0m\n",
      "\u001b[1;31mTypeError\u001b[0m: unhashable type: 'list'"
     ]
    }
   ],
   "source": [
    " a={1:\"python\",\"city\":\"Hyderabad\",[1,2,3]:[11,12,13]}\n",
    "\n",
    "            #-- invalid declaratation"
   ]
  },
  {
   "cell_type": "code",
   "execution_count": 8,
   "metadata": {},
   "outputs": [
    {
     "name": "stdout",
     "output_type": "stream",
     "text": [
      "ramesh123@gmail.com\n",
      "ramesh@gmail.com\n",
      "suresh\n"
     ]
    },
    {
     "ename": "KeyError",
     "evalue": "'city'",
     "output_type": "error",
     "traceback": [
      "\u001b[1;31m---------------------------------------------------------------------------\u001b[0m",
      "\u001b[1;31mKeyError\u001b[0m                                  Traceback (most recent call last)",
      "\u001b[1;32m<ipython-input-8-5178593f5cf1>\u001b[0m in \u001b[0;36m<module>\u001b[1;34m\u001b[0m\n\u001b[0;32m      6\u001b[0m \u001b[0mprint\u001b[0m\u001b[1;33m(\u001b[0m\u001b[0ma\u001b[0m\u001b[1;33m[\u001b[0m\u001b[1;34m'username'\u001b[0m\u001b[1;33m]\u001b[0m\u001b[1;33m)\u001b[0m\u001b[1;33m\u001b[0m\u001b[1;33m\u001b[0m\u001b[0m\n\u001b[0;32m      7\u001b[0m \u001b[1;33m\u001b[0m\u001b[0m\n\u001b[1;32m----> 8\u001b[1;33m \u001b[0mprint\u001b[0m\u001b[1;33m(\u001b[0m\u001b[0ma\u001b[0m\u001b[1;33m[\u001b[0m\u001b[1;34m'city'\u001b[0m\u001b[1;33m]\u001b[0m\u001b[1;33m)\u001b[0m\u001b[1;33m\u001b[0m\u001b[1;33m\u001b[0m\u001b[0m\n\u001b[0m",
      "\u001b[1;31mKeyError\u001b[0m: 'city'"
     ]
    }
   ],
   "source": [
    "a={\"username\":\"ramesh\",\"password\":\"ramesh123\",'email':[\"ramesh@gmail.com\",'ramesh123@gmail.com'],'username':\"suresh\"}\n",
    "\n",
    "# Dictionary should not contain the duplicate keys. \n",
    "# Even though it contains at the declaration when it goes for executions,\n",
    "# it will consider only the latest key:value pair into consideration..\n",
    "# accessing inside the dictionary will be using the key-name...\n",
    "\n",
    "print(a['email'][1])\n",
    "\n",
    "print(a['email'][0])\n",
    "\n",
    "print(a['username'])\n",
    "\n",
    "print(a['city']) # the key word doesnt exist so it gives error "
   ]
  },
  {
   "cell_type": "markdown",
   "metadata": {},
   "source": [
    "\n",
    "# Dictionaries are mutuable...\n"
   ]
  },
  {
   "cell_type": "code",
   "execution_count": 9,
   "metadata": {},
   "outputs": [
    {
     "name": "stdout",
     "output_type": "stream",
     "text": [
      "['__class__', '__contains__', '__delattr__', '__delitem__', '__dir__', '__doc__', '__eq__', '__format__', '__ge__', '__getattribute__', '__getitem__', '__gt__', '__hash__', '__init__', '__init_subclass__', '__iter__', '__le__', '__len__', '__lt__', '__ne__', '__new__', '__reduce__', '__reduce_ex__', '__repr__', '__setattr__', '__setitem__', '__sizeof__', '__str__', '__subclasshook__', 'clear', 'copy', 'fromkeys', 'get', 'items', 'keys', 'pop', 'popitem', 'setdefault', 'update', 'values']\n"
     ]
    }
   ],
   "source": [
    " print(dir(dict)) # these are the elements which we can use for dictionary\n",
    "    \n",
    "    \n",
    "  #  {'clear', 'copy', 'fromkeys', 'get', 'items', 'keys', 'pop', 'popitem', 'setdefault', 'update', 'values'}"
   ]
  },
  {
   "cell_type": "markdown",
   "metadata": {},
   "source": [
    "   # get --\n",
    "                   It is for accessing the value for a particular key if the key is present.. If the key is not present it will return it as None..\n"
   ]
  },
  {
   "cell_type": "code",
   "execution_count": 17,
   "metadata": {},
   "outputs": [
    {
     "name": "stdout",
     "output_type": "stream",
     "text": [
      "suresh\n",
      "suresh\n",
      "{'username': 'suresh', 'password': 'ramesh123', 'email': ['ramesh@gmail.com', 'ramesh123@gmail.com'], 'phone': '74872847827'}\n"
     ]
    }
   ],
   "source": [
    " print(a['username'])\n",
    "\n",
    " print(a.get('username'))\n",
    "print(a)\n"
   ]
  },
  {
   "cell_type": "markdown",
   "metadata": {},
   "source": [
    "# adding key:value into the dictionary.."
   ]
  },
  {
   "cell_type": "code",
   "execution_count": 26,
   "metadata": {},
   "outputs": [
    {
     "name": "stdout",
     "output_type": "stream",
     "text": [
      "{'username': 'hari krishna ', 'password': 'hari1234', 'company': 'wipro', 'location': 'hyderabad', 'phone': '74872847827'}\n",
      "{'username': 'hari krishna ', 'password': 'hari1234', 'company': 'wipro', 'location': 'hyderabad', 'phone': '74872847827', 'city': 'hyderabad'}\n"
     ]
    }
   ],
   "source": [
    "\n",
    "    a['phone']=\"74872847827\"\n",
    "\n",
    "    print(a)\n",
    "    a[\"city\"]=\"hyderabad\"\n",
    "    print(a)"
   ]
  },
  {
   "cell_type": "markdown",
   "metadata": {},
   "source": [
    "\n",
    "\n",
    "# update.. -- \n",
    "                          It is for adding key:value pairs of a dictionary with other dictionary..\n",
    "\n"
   ]
  },
  {
   "cell_type": "code",
   "execution_count": 25,
   "metadata": {},
   "outputs": [
    {
     "name": "stdout",
     "output_type": "stream",
     "text": [
      "{'username': 'hari krishna ', 'password': 'hari1234', 'company': 'wipro', 'location': 'hyderabad'}\n"
     ]
    }
   ],
   "source": [
    " b={\"company\":\"wipro\",\"location\":\"hyderabad\"}\n",
    "\n",
    " a.update(b)\n",
    "\n",
    " print(a)"
   ]
  },
  {
   "cell_type": "code",
   "execution_count": 28,
   "metadata": {},
   "outputs": [
    {
     "name": "stdout",
     "output_type": "stream",
     "text": [
      "Enter your username:-hello\n",
      "Enter your password:-hio\n",
      "{'username': 'hello', 'password': 'hio'}\n"
     ]
    }
   ],
   "source": [
    "\n",
    "\n",
    "\n",
    "\n",
    "\n",
    "# {'username':None}\n",
    "\n",
    "# enter the key:\n",
    "# enter the values:\n",
    "\n",
    "a={'username':None,'password':None}\n",
    "\n",
    "username=input(\"Enter your username:-\")\n",
    "password = input(\"Enter your password:-\")\n",
    "\n",
    "a['username']=username\n",
    "a['password']=password\n",
    "\n",
    "print(a)"
   ]
  },
  {
   "cell_type": "markdown",
   "metadata": {},
   "source": [
    "# # Removal Methods:-\n",
    "     \n",
    "     # pop\n",
    "    \n",
    "    # popitem\n",
    "    \n",
    "    # clear"
   ]
  },
  {
   "cell_type": "markdown",
   "metadata": {},
   "source": [
    "# pop() --  for removing a key:value pair from the dictionary.. using key-name..."
   ]
  },
  {
   "cell_type": "code",
   "execution_count": 46,
   "metadata": {},
   "outputs": [
    {
     "name": "stdout",
     "output_type": "stream",
     "text": [
      "{'company': 'wipro'}\n"
     ]
    },
    {
     "data": {
      "text/plain": [
       "('company', 'wipro')"
      ]
     },
     "execution_count": 46,
     "metadata": {},
     "output_type": "execute_result"
    }
   ],
   "source": [
    "c={\"company\":\"wipro\",\"location\":\"hyderabad\"}\n",
    "c.pop(\"location\")\n",
    "print(c)\n"
   ]
  },
  {
   "cell_type": "markdown",
   "metadata": {},
   "source": [
    "# popitem() -   it will remove the last key:value pair in the dictionary.."
   ]
  },
  {
   "cell_type": "code",
   "execution_count": 45,
   "metadata": {},
   "outputs": [
    {
     "name": "stdout",
     "output_type": "stream",
     "text": [
      "('company', 'wipro')\n"
     ]
    }
   ],
   "source": [
    "print(c.popitem())\n"
   ]
  },
  {
   "cell_type": "markdown",
   "metadata": {},
   "source": [
    "# clear --   Removing all the key:value pairs and make it as empty dictionary..\n"
   ]
  },
  {
   "cell_type": "code",
   "execution_count": 47,
   "metadata": {},
   "outputs": [
    {
     "name": "stdout",
     "output_type": "stream",
     "text": [
      "{}\n"
     ]
    }
   ],
   "source": [
    "c.clear()\n",
    "print(c)"
   ]
  },
  {
   "cell_type": "markdown",
   "metadata": {},
   "source": [
    "# keys() --   Its for giving all the keys inside the dictionary.."
   ]
  },
  {
   "cell_type": "code",
   "execution_count": 48,
   "metadata": {},
   "outputs": [
    {
     "name": "stdout",
     "output_type": "stream",
     "text": [
      "['username', 'password']\n"
     ]
    }
   ],
   "source": [
    "print(list(a.keys()))"
   ]
  },
  {
   "cell_type": "markdown",
   "metadata": {},
   "source": [
    "# values() --  It will return all the values inside the dictionary."
   ]
  },
  {
   "cell_type": "code",
   "execution_count": 49,
   "metadata": {},
   "outputs": [
    {
     "name": "stdout",
     "output_type": "stream",
     "text": [
      "['hello', 'hio']\n"
     ]
    }
   ],
   "source": [
    "print(list(a.values()))"
   ]
  },
  {
   "cell_type": "markdown",
   "metadata": {},
   "source": [
    "# items() -- it will return key:value pair inside dictionary.."
   ]
  },
  {
   "cell_type": "code",
   "execution_count": 50,
   "metadata": {},
   "outputs": [
    {
     "name": "stdout",
     "output_type": "stream",
     "text": [
      "dict_items([('username', 'hello'), ('password', 'hio')])\n"
     ]
    }
   ],
   "source": [
    " print(a.items())"
   ]
  },
  {
   "cell_type": "markdown",
   "metadata": {},
   "source": [
    "# fromkeys() -- its for dynamic creation of a dictionary with sequence of values      as keys..\n"
   ]
  },
  {
   "cell_type": "code",
   "execution_count": 4,
   "metadata": {},
   "outputs": [
    {
     "ename": "IndentationError",
     "evalue": "unexpected indent (<ipython-input-4-e366d21c7586>, line 13)",
     "output_type": "error",
     "traceback": [
      "\u001b[1;36m  File \u001b[1;32m\"<ipython-input-4-e366d21c7586>\"\u001b[1;36m, line \u001b[1;32m13\u001b[0m\n\u001b[1;33m    b={}\u001b[0m\n\u001b[1;37m    ^\u001b[0m\n\u001b[1;31mIndentationError\u001b[0m\u001b[1;31m:\u001b[0m unexpected indent\n"
     ]
    }
   ],
   "source": [
    "# fromkeys()---\n",
    "\n",
    "a=[\"city\",\"state\",\"country\",\"continent\"]\n",
    "\n",
    "\n",
    " #print({}.fromkeys(a,[\"hyderabad\",\"Telanagan\",\"India\",\"Asia\"]))\n",
    "\n",
    "\n",
    "\n",
    "\n",
    "\n",
    "\n",
    " b={}\n",
    " for j in a:\n",
    "     b[j]=\"hyderabad\"\n",
    "\n",
    " print(b)\n",
    "\n",
    "\n",
    "\n",
    "\n",
    "\n"
   ]
  },
  {
   "cell_type": "markdown",
   "metadata": {},
   "source": [
    "# setdefault() -- for giving a default value to a particular key using dynamic way of declaration.\n"
   ]
  },
  {
   "cell_type": "code",
   "execution_count": 7,
   "metadata": {},
   "outputs": [
    {
     "name": "stdout",
     "output_type": "stream",
     "text": [
      "{'city': 'hyderabad', 'state': 'Telangana'}\n"
     ]
    }
   ],
   "source": [
    "\n",
    "\n",
    " a={'city':\"hyderabad\"}\n",
    "\n",
    " a.setdefault(\"state\",\"Telangana\")\n",
    "\n",
    " print(a)\n",
    "\n",
    "# a['state']=\"Andhra\"\n",
    "\n",
    "# print(a)"
   ]
  },
  {
   "cell_type": "markdown",
   "metadata": {},
   "source": [
    "# Dictionary Comprehension:-\n",
    "\n",
    "# [expression for elments in sequence]\n",
    "\n",
    "# {expression for elments in sequence}"
   ]
  },
  {
   "cell_type": "code",
   "execution_count": null,
   "metadata": {},
   "outputs": [],
   "source": [
    "\n",
    "\n",
    "# b={} # empty dictionary\n",
    "\n",
    "# for j in range(1,10):\n",
    "#     if j%2==0:\n",
    "#         b[j]=j*2\n",
    "#     else:\n",
    "#         b[j]=j*3\n",
    "\n",
    "# print(b)  # code for dict comprehension.......\n",
    "\n",
    " print({j:j*2 for j in range(1,10)})\n",
    "\n",
    "print({j:j*2 for j in range(1,10) if j%2==0})\n",
    "\n",
    " a={j:j*2 if j%2==0 else j*3 for j in range(1,10)}"
   ]
  },
  {
   "cell_type": "code",
   "execution_count": null,
   "metadata": {},
   "outputs": [],
   "source": [
    "# enter your name:-ramesh\n",
    "# enter dob:-25-5-1996\n",
    "# enter your name:-suresh\n",
    "# enter dob:--24-8-1987\n",
    "# enter your name:venkatesh\n",
    "# enetr dob:-23-07-1997\n",
    "# enter your name:-ramesh\n",
    "# this user already existed you want to add or update..\n",
    "# enter dob:- 12-04-1998\n",
    "# enter your name:suresh\n",
    "# enter dob:-23-5-1990\n",
    "\n",
    "# {'ramesh':('25-5-1996','12-04-1998'),'suresh':('24-8-1987','23-5-1990'),'venkatesh':(\"23-07-1997\",)}"
   ]
  }
 ],
 "metadata": {
  "kernelspec": {
   "display_name": "Python 3",
   "language": "python",
   "name": "python3"
  },
  "language_info": {
   "codemirror_mode": {
    "name": "ipython",
    "version": 3
   },
   "file_extension": ".py",
   "mimetype": "text/x-python",
   "name": "python",
   "nbconvert_exporter": "python",
   "pygments_lexer": "ipython3",
   "version": "3.7.4"
  }
 },
 "nbformat": 4,
 "nbformat_minor": 2
}
