{
 "cells": [
  {
   "cell_type": "markdown",
   "metadata": {},
   "source": [
    "# Functions -- Set of statements which performs a specific task..\n",
    "\n"
   ]
  },
  {
   "cell_type": "code",
   "execution_count": 3,
   "metadata": {
    "scrolled": true
   },
   "outputs": [
    {
     "name": "stdout",
     "output_type": "stream",
     "text": [
      "110\n",
      "-42\n",
      "0.4473684210526316\n",
      "2584\n",
      "57\n",
      "-33\n",
      "540\n",
      "0.26666666666666666\n"
     ]
    }
   ],
   "source": [
    "a=34\n",
    "b=76\n",
    "\n",
    "print(a+b)\n",
    "print(a-b)\n",
    "print(a/b)\n",
    "print(a*b)  ############ again i want to change the values with the same operations \n",
    "                            ##### and i want output for both numbers with the same functionality the n.number of times\n",
    "    \n",
    "a=12\n",
    "b=45\n",
    "\n",
    "print(a+b)\n",
    "print(a-b)\n",
    "print(a*b)\n",
    "print(a/b)\n",
    "    \n",
    "    # here we will be using functions.........."
   ]
  },
  {
   "cell_type": "markdown",
   "metadata": {},
   "source": [
    "\n",
    "   # Functions reduce the no.of line of code (code reusuability..)"
   ]
  },
  {
   "cell_type": "markdown",
   "metadata": {},
   "source": [
    "\"\"\"\n",
    "# def -- keyword    # syntax \n",
    "\n",
    "def functionname():\n",
    "    statements of code\n",
    "\"\"\""
   ]
  },
  {
   "cell_type": "code",
   "execution_count": 6,
   "metadata": {},
   "outputs": [
    {
     "name": "stdout",
     "output_type": "stream",
     "text": [
      "enter a value100\n",
      "enter b value5\n",
      "part 1\n",
      "105\n",
      "95\n",
      "500\n",
      "20.0\n",
      "part 2\n",
      "Enter 2nd A Value:-200\n",
      "Enter second B value:-5\n",
      "205\n",
      "195\n",
      "1000\n",
      "40.0\n"
     ]
    }
   ],
   "source": [
    "a=int(input(\"enter a value\"))\n",
    "b=int(input(\"enter b value\"))\n",
    "print(\"part 1\")\n",
    "def addition():\n",
    "    print(a+b)\n",
    "    print(a-b)\n",
    "    print(a*b)\n",
    "    print(a/b)\n",
    "    \n",
    "# # without calling the function nothing will be executed inside the function..\n",
    "    \n",
    "addition() #calling a function\n",
    "print(\"part 2\")\n",
    "a=int(input(\"Enter 2nd A Value:-\"))\n",
    "b=int(input(\"Enter second B value:-\"))\n",
    "addition()\n",
    "    "
   ]
  },
  {
   "cell_type": "markdown",
   "metadata": {},
   "source": [
    "# Functions with Arguments or Parameters:-"
   ]
  },
  {
   "cell_type": "markdown",
   "metadata": {},
   "source": [
    "\n",
    "# 5 ways of passing arguments to the functions..\n",
    "\n",
    "    # 1) Positional Arguuments\n",
    "    # 2) Default Arguments\n",
    "    # 3) Keyword Arguments\n",
    "    # 4) Arbitrary Poitional Arguments\n",
    "    # 5) Arbitrary Keyword Arguments"
   ]
  },
  {
   "cell_type": "markdown",
   "metadata": {},
   "source": [
    "##  Positional Arguuments:::::"
   ]
  },
  {
   "cell_type": "code",
   "execution_count": 8,
   "metadata": {},
   "outputs": [],
   "source": [
    " def details(emp_name,emp_email,emp_location):\n",
    "        print(\"{} having email id as {} works at {} city\".format(emp_name,emp_email,emp_location))"
   ]
  },
  {
   "cell_type": "code",
   "execution_count": 12,
   "metadata": {},
   "outputs": [
    {
     "ename": "TypeError",
     "evalue": "details() missing 3 required positional arguments: 'emp_name', 'emp_email', and 'emp_location'",
     "output_type": "error",
     "traceback": [
      "\u001b[1;31m---------------------------------------------------------------------------\u001b[0m",
      "\u001b[1;31mTypeError\u001b[0m                                 Traceback (most recent call last)",
      "\u001b[1;32m<ipython-input-12-4980fb933801>\u001b[0m in \u001b[0;36m<module>\u001b[1;34m\u001b[0m\n\u001b[1;32m----> 1\u001b[1;33m \u001b[0mdetails\u001b[0m\u001b[1;33m(\u001b[0m\u001b[1;33m)\u001b[0m\u001b[1;33m\u001b[0m\u001b[1;33m\u001b[0m\u001b[0m\n\u001b[0m",
      "\u001b[1;31mTypeError\u001b[0m: details() missing 3 required positional arguments: 'emp_name', 'emp_email', and 'emp_location'"
     ]
    }
   ],
   "source": [
    "details()"
   ]
  },
  {
   "cell_type": "code",
   "execution_count": 9,
   "metadata": {},
   "outputs": [
    {
     "name": "stdout",
     "output_type": "stream",
     "text": [
      "Suresh havaingg email id as suresh@gmail.com works at hhyderabaf city\n"
     ]
    }
   ],
   "source": [
    "details('Suresh',\"suresh@gmail.com\",\"hhyderabaf\")"
   ]
  },
  {
   "cell_type": "code",
   "execution_count": 10,
   "metadata": {},
   "outputs": [
    {
     "name": "stdout",
     "output_type": "stream",
     "text": [
      "venkatesh havaingg email id as venkatesh@gmail.com works at Guntur city\n"
     ]
    }
   ],
   "source": [
    "details(\"venkatesh\",\"venkatesh@gmail.com\",\"Guntur\")"
   ]
  },
  {
   "cell_type": "code",
   "execution_count": 11,
   "metadata": {},
   "outputs": [
    {
     "ename": "TypeError",
     "evalue": "details() missing 1 required positional argument: 'emp_location'",
     "output_type": "error",
     "traceback": [
      "\u001b[1;31m---------------------------------------------------------------------------\u001b[0m",
      "\u001b[1;31mTypeError\u001b[0m                                 Traceback (most recent call last)",
      "\u001b[1;32m<ipython-input-11-2196cb83d6c2>\u001b[0m in \u001b[0;36m<module>\u001b[1;34m\u001b[0m\n\u001b[1;32m----> 1\u001b[1;33m \u001b[0mdetails\u001b[0m\u001b[1;33m(\u001b[0m\u001b[1;34m\"Venkaetsh\"\u001b[0m\u001b[1;33m,\u001b[0m\u001b[1;34m\"Vijayawada\"\u001b[0m\u001b[1;33m)\u001b[0m\u001b[1;33m\u001b[0m\u001b[1;33m\u001b[0m\u001b[0m\n\u001b[0m",
      "\u001b[1;31mTypeError\u001b[0m: details() missing 1 required positional argument: 'emp_location'"
     ]
    }
   ],
   "source": [
    " details(\"Venkaetsh\",\"Vijayawada\")"
   ]
  },
  {
   "cell_type": "markdown",
   "metadata": {},
   "source": [
    " ##  Default Arguments--- Providing a default value at the delcaration.."
   ]
  },
  {
   "cell_type": "code",
   "execution_count": 13,
   "metadata": {},
   "outputs": [],
   "source": [
    "def details(emp_name,emp_email=\"ramesh@gmail.com\",emp_location=\"Bangalore\"):\n",
    "    print(\"{} havaingg email id as {} works at {} city\".format(emp_name,emp_email,emp_location))"
   ]
  },
  {
   "cell_type": "code",
   "execution_count": 14,
   "metadata": {},
   "outputs": [
    {
     "name": "stdout",
     "output_type": "stream",
     "text": [
      "suresh@gmail.com havaingg email id as Suresh works at Bangalore city\n"
     ]
    }
   ],
   "source": [
    "details(\"suresh@gmail.com\",\"Suresh\")"
   ]
  },
  {
   "cell_type": "code",
   "execution_count": 23,
   "metadata": {},
   "outputs": [],
   "source": [
    " def details(emp_id,emp_salary):\n",
    "    print(\"{} get {} salary\".format(emp_id,emp_salary))"
   ]
  },
  {
   "cell_type": "code",
   "execution_count": 26,
   "metadata": {},
   "outputs": [
    {
     "name": "stdout",
     "output_type": "stream",
     "text": [
      "Ramesh get Ramesh@gmail.com salary\n"
     ]
    }
   ],
   "source": [
    "details(\"Ramesh\",\"Ramesh@gmail.com\")### here it is showing the above declaration for the below format \n",
    "\n",
    "## so in python we have to use different functions name if not the python will consider the latest function into declaration"
   ]
  },
  {
   "cell_type": "code",
   "execution_count": null,
   "metadata": {},
   "outputs": [],
   "source": [
    "# Python will consider the latest function delcared into the consideration..."
   ]
  },
  {
   "cell_type": "markdown",
   "metadata": {},
   "source": [
    "## 3)Keywords arguments -- calling the function with key:values "
   ]
  },
  {
   "cell_type": "code",
   "execution_count": 28,
   "metadata": {},
   "outputs": [
    {
     "name": "stdout",
     "output_type": "stream",
     "text": [
      "suresh@gmail.com havaingg email id as Hyderbad works at Suresh city\n",
      "enter email:-harijammula1@gmail.com\n",
      "enter Location:-hyd\n",
      "enter Name:-haru jkasfha\n",
      "haru jkasfha havaingg email id as harijammula1@gmail.com works at hyd city\n"
     ]
    }
   ],
   "source": [
    "def details(emp_name,emp_email,emp_location):\n",
    "    print(\"{} havaingg email id as {} works at {} city\".format(emp_name,emp_email,emp_location))\n",
    "\n",
    "details(\"suresh@gmail.com\",\"Hyderbad\",\"Suresh\")\n",
    "\n",
    "details(emp_email=input(\"enter email:-\"),emp_location=input(\"enter Location:-\"),emp_name=input(\"enter Name:-\"))\n"
   ]
  },
  {
   "cell_type": "markdown",
   "metadata": {},
   "source": [
    "# 4)Arbitrary Positional Arguments--\n",
    "\n",
    "## * --- symbols..."
   ]
  },
  {
   "cell_type": "code",
   "execution_count": 34,
   "metadata": {},
   "outputs": [
    {
     "ename": "TypeError",
     "evalue": "transactions() missing 2 required keyword-only arguments: 'b' and 'c'",
     "output_type": "error",
     "traceback": [
      "\u001b[1;31m---------------------------------------------------------------------------\u001b[0m",
      "\u001b[1;31mTypeError\u001b[0m                                 Traceback (most recent call last)",
      "\u001b[1;32m<ipython-input-34-5785567803e8>\u001b[0m in \u001b[0;36m<module>\u001b[1;34m\u001b[0m\n\u001b[0;32m     12\u001b[0m  \u001b[1;31m# transactions(245.67,6573,747,313,949,314,857,645.76,b=input(\"enter name:\"),c=input(\"Enter the month:\"))\u001b[0m\u001b[1;33m\u001b[0m\u001b[1;33m\u001b[0m\u001b[1;33m\u001b[0m\u001b[0m\n\u001b[0;32m     13\u001b[0m \u001b[1;33m\u001b[0m\u001b[0m\n\u001b[1;32m---> 14\u001b[1;33m \u001b[0mtransactions\u001b[0m\u001b[1;33m(\u001b[0m\u001b[1;36m65\u001b[0m\u001b[1;33m,\u001b[0m\u001b[1;36m733\u001b[0m\u001b[1;33m,\u001b[0m\u001b[1;36m874\u001b[0m\u001b[1;33m)\u001b[0m\u001b[1;33m\u001b[0m\u001b[1;33m\u001b[0m\u001b[0m\n\u001b[0m\u001b[0;32m     15\u001b[0m \u001b[1;33m\u001b[0m\u001b[0m\n\u001b[0;32m     16\u001b[0m \u001b[1;33m\u001b[0m\u001b[0m\n",
      "\u001b[1;31mTypeError\u001b[0m: transactions() missing 2 required keyword-only arguments: 'b' and 'c'"
     ]
    }
   ],
   "source": [
    "\n",
    "def transactions(*a,b,c):\n",
    "    print(a)\n",
    "    print(sum(a))\n",
    "    deduct_amount=0\n",
    "    for j in a:\n",
    "        deduct_amount = deduct_amount+j\n",
    "        print(\"{} amount has been deducted from your account this month\".format(deduct_amount))\n",
    "        print(\"{} amount has been deducted from {} account in {} month\".format(deduct_amount,b,c))\n",
    "#     # you have used \n",
    "\n",
    "\n",
    " # transactions(245.67,6573,747,313,949,314,857,645.76,b=input(\"enter name:\"),c=input(\"Enter the month:\"))\n",
    "\n",
    "transactions(65,733,874)\n",
    "\n",
    "\n",
    "transactions(65,733,874,748,313,783)"
   ]
  },
  {
   "cell_type": "markdown",
   "metadata": {},
   "source": [
    "# 5) Arbitrary Keyword Arguments:-"
   ]
  },
  {
   "cell_type": "code",
   "execution_count": null,
   "metadata": {},
   "outputs": [],
   "source": [
    "\n",
    "\n",
    "\n",
    "# def transactions(**a):\n",
    "#     print(a)\n",
    "#     # deduct_amount = 0\n",
    "#     for j in a:\n",
    "#         if a[j]>5000:\n",
    "#             # print(a[j])\n",
    "#             print(\"in {} you spent {} amount\".format(j,a[j]))\n",
    "#         # deduct_amount = deduct_amount +a[j]\n",
    "#     # print(deduct_amount)\n",
    "\n",
    "# transactions(1423,january=2450,february=73838,April=7483,March=6733)\n"
   ]
  },
  {
   "cell_type": "markdown",
   "metadata": {},
   "source": [
    "\n",
    "# return\n",
    "# recursion\n",
    "# lambda\n",
    "# global and local"
   ]
  },
  {
   "cell_type": "markdown",
   "metadata": {},
   "source": [
    "# return Statements\n",
    "\n",
    "## print -- it will just display or print the output..\n",
    "\n",
    "## return -- it will store the value and send it to function call.."
   ]
  },
  {
   "cell_type": "code",
   "execution_count": null,
   "metadata": {},
   "outputs": [],
   "source": [
    "# def addition(a,b):\n",
    "#     # print(a+b)\n",
    "#     return (a+b)*(a*b)\n",
    "#     # print(\"hello\")\n",
    "\n",
    "\n",
    "# def subtract(c):\n",
    "#     # print(addition(4,5))\n",
    "#     # print(addition(4,5)-c)\n",
    "#     return addition(4,5)-c\n",
    "\n",
    "# # subtract(3)\n",
    "\n",
    "# def multiplication(d):\n",
    "#     return subtract(7)*d\n",
    "\n",
    "# print(multiplication(2))\n"
   ]
  },
  {
   "cell_type": "markdown",
   "metadata": {},
   "source": [
    "# Recursion --- Function calling Itself is called Recursion.."
   ]
  },
  {
   "cell_type": "code",
   "execution_count": null,
   "metadata": {},
   "outputs": [],
   "source": []
  },
  {
   "cell_type": "code",
   "execution_count": null,
   "metadata": {},
   "outputs": [],
   "source": [
    "# 6! == 6*5!    # n*(n-1)!\n",
    "       #6*5*4!\n",
    "       #6*5*4*3!\n",
    "       #6*5*4*3*2!\n",
    "       #6*5*4*3*2*1!\n",
    "       #6*5*4*3*2*1\n"
   ]
  },
  {
   "cell_type": "code",
   "execution_count": null,
   "metadata": {},
   "outputs": [],
   "source": [
    "\n",
    "# def fact_cal(a):\n",
    "#     if a==1:\n",
    "#         return 1\n",
    "#     else:\n",
    "#         return a*fact_cal(a-1)  #6*5*4*3*2*1\n",
    "\n",
    "# print(fact_cal(6))\n",
    "\n",
    "#pdb --- pythondebugger.."
   ]
  },
  {
   "cell_type": "markdown",
   "metadata": {},
   "source": [
    "\n",
    "# global and local varibales..\n",
    "\n",
    "## Local varibales -- Those Varibales which are declared insinde the function call and can be accessed only inside that particular function..\n",
    "\n",
    "## Global varibales -- Those varibales declared outside of all the functions and can be accessed anywhere inside the programm..\n"
   ]
  },
  {
   "cell_type": "code",
   "execution_count": null,
   "metadata": {},
   "outputs": [],
   "source": [
    "# a=45\n",
    "\n",
    "# def addition(a,b):\n",
    "#     print(\"Inside A\",a)\n",
    "#     a=23\n",
    "#     print(\"Inside B\",b)\n",
    "\n",
    "# # print(\"Outside A\",a)\n",
    "\n",
    "# addition(5,6)\n",
    "\n",
    "# print(\"Outside A\",a)"
   ]
  },
  {
   "cell_type": "markdown",
   "metadata": {},
   "source": [
    "# lambda functions or Anonymous Functions:- A function which doesnot have any name...\n",
    "\n",
    "## lambda arguments:expression\n",
    "\n",
    "## def fun-name(arguem):\n",
    "##     return expression"
   ]
  },
  {
   "cell_type": "code",
   "execution_count": null,
   "metadata": {},
   "outputs": [],
   "source": [
    "# b=[]\n",
    "# def sample(a):\n",
    "#     for j in range(1,a+1):\n",
    "#         if j%2==0:\n",
    "#             b.append(j)\n",
    "#     return b\n",
    "\n",
    "# print(sample(10))\n",
    "\n",
    "\n",
    "# print((lambda a,b,c:a*b*c)(3,4,5))"
   ]
  }
 ],
 "metadata": {
  "kernelspec": {
   "display_name": "Python 3",
   "language": "python",
   "name": "python3"
  },
  "language_info": {
   "codemirror_mode": {
    "name": "ipython",
    "version": 3
   },
   "file_extension": ".py",
   "mimetype": "text/x-python",
   "name": "python",
   "nbconvert_exporter": "python",
   "pygments_lexer": "ipython3",
   "version": "3.7.4"
  }
 },
 "nbformat": 4,
 "nbformat_minor": 2
}
