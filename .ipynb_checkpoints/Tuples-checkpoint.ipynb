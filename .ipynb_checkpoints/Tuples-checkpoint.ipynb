{
 "cells": [
  {
   "cell_type": "markdown",
   "metadata": {},
   "source": [
    "# Tuples -- \n",
    "                    Sequence of elements declared inside ( ) where every elment is separeted with comma(,).\n"
   ]
  },
  {
   "cell_type": "code",
   "execution_count": 6,
   "metadata": {},
   "outputs": [
    {
     "name": "stdout",
     "output_type": "stream",
     "text": [
      "(3, '4', 'python', 4.5, 12)\n",
      "<class 'tuple'>\n",
      "python\n",
      "['__add__', '__class__', '__contains__', '__delattr__', '__dir__', '__doc__', '__eq__', '__format__', '__ge__', '__getattribute__', '__getitem__', '__getnewargs__', '__gt__', '__hash__', '__init__', '__init_subclass__', '__iter__', '__le__', '__len__', '__lt__', '__mul__', '__ne__', '__new__', '__reduce__', '__reduce_ex__', '__repr__', '__rmul__', '__setattr__', '__sizeof__', '__str__', '__subclasshook__', 'count', 'index']\n"
     ]
    }
   ],
   "source": [
    " a=(3,\"4\",\"python\",4.5,12)\n",
    "\n",
    "\n",
    " print((a))\n",
    "print(type(a))\n",
    "print(a[2])\n",
    "\n",
    " print(dir(tuple))"
   ]
  },
  {
   "cell_type": "code",
   "execution_count": 2,
   "metadata": {},
   "outputs": [
    {
     "name": "stdout",
     "output_type": "stream",
     "text": [
      "<class 'tuple'>\n"
     ]
    }
   ],
   "source": [
    "# () -- not mandatory but recommmeded to use it...\n",
    "\n",
    "a=(12,)                        # single value tuple...\n",
    "\n",
    " print(type(a))"
   ]
  },
  {
   "cell_type": "code",
   "execution_count": null,
   "metadata": {},
   "outputs": [],
   "source": [
    "\n",
    "\n",
    "a=(3,\"4\",\"python\",4.5,12)\n",
    "\n",
    "# print(type(a))\n",
    "\n",
    "\n",
    "\n",
    "# Accessing the elments -- Indexing....\n",
    "\n",
    "# print(a[2])\n",
    "\n",
    "# print(a[0:4])\n",
    "\n",
    "# print(a[0:5:2])# slicing \n",
    "\n",
    "# negative indexing\n",
    "\n",
    "# print(a[-1])\n",
    "\n",
    "# print(a[-1:-6:-1])\n",
    "\n",
    "# print(a[::-1])\n",
    "\n",
    "# Tuple are immutable..\n",
    "\n",
    "\n",
    "a=(23,'python',5.6,[11,12,13],23)\n",
    "\n",
    "# a[1]=\"django\"\n",
    "\n",
    "# del a[1]\n",
    "\n",
    "\n",
    "# index -- giving the index value of a particular elments\n",
    "# count -- returns how many times a particular value is repeated inside the tuple...\n",
    "\n",
    "# print(dir(tuple))\n",
    "\n",
    "# print(a.index(23))\n",
    "\n",
    "# print(a.count(23))\n",
    "\n",
    "\n",
    "# Tuple elments are immutable...\n",
    "\n",
    "# a[3].append(14)\n",
    "\n",
    "# print(a)\n",
    "\n",
    "# Tuple elments are immutbale, if the elment which is declared is a mutuable datatype i can add elments into that particular datatype value..."
   ]
  },
  {
   "cell_type": "code",
   "execution_count": 7,
   "metadata": {},
   "outputs": [
    {
     "name": "stdout",
     "output_type": "stream",
     "text": [
      "django\n",
      "python\n"
     ]
    }
   ],
   "source": [
    "a=('python',223,58,23,'django')\n",
    "for j in a :\n",
    "    if type(j)==str:\n",
    "        print(j)"
   ]
  },
  {
   "cell_type": "code",
   "execution_count": null,
   "metadata": {},
   "outputs": [],
   "source": []
  }
 ],
 "metadata": {
  "kernelspec": {
   "display_name": "Python 3",
   "language": "python",
   "name": "python3"
  },
  "language_info": {
   "codemirror_mode": {
    "name": "ipython",
    "version": 3
   },
   "file_extension": ".py",
   "mimetype": "text/x-python",
   "name": "python",
   "nbconvert_exporter": "python",
   "pygments_lexer": "ipython3",
   "version": "3.7.4"
  }
 },
 "nbformat": 4,
 "nbformat_minor": 2
}
