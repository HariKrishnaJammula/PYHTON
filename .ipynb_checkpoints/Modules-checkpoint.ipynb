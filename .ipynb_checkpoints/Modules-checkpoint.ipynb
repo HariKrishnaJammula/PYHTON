{
 "cells": [
  {
   "cell_type": "markdown",
   "metadata": {},
   "source": [
    "# Module --- Every Python File is a module...\n",
    "\n",
    "    # 1) Userdefined Modules -- Those .py file created by user..\n",
    "    # 2) Inbuilt Modules --- Those .py Comes with Python By default..\n",
    "    # 3) External Libraries --- Those we are going to install external from some source..\n",
    "\n"
   ]
  },
  {
   "cell_type": "markdown",
   "metadata": {},
   "source": [
    "## syntax  for modules:-\n",
    "\n",
    "\n",
    "\"\"\" import module-name\"\"\"\n",
    "\n",
    "\n",
    "## module-name --- Your python file which you want ot use.."
   ]
  },
  {
   "cell_type": "code",
   "execution_count": null,
   "metadata": {},
   "outputs": [],
   "source": [
    "# import module_10am_1\n",
    "\n",
    "# print(module_10am_1.username)\n",
    "# print(module_10am_1.password)\n",
    "\n",
    "# print(\"{} is having {} passwrod for login\".format(module_10am_1.username,module_10am_1.password))\n",
    "\n",
    "# print(module_10am_1.add(6,7))"
   ]
  },
  {
   "cell_type": "code",
   "execution_count": 7,
   "metadata": {
    "scrolled": true
   },
   "outputs": [
    {
     "ename": "AttributeError",
     "evalue": "module 'sample' has no attribute 'add'",
     "output_type": "error",
     "traceback": [
      "\u001b[1;31m---------------------------------------------------------------------------\u001b[0m",
      "\u001b[1;31mAttributeError\u001b[0m                            Traceback (most recent call last)",
      "\u001b[1;32m<ipython-input-7-8896dca1189b>\u001b[0m in \u001b[0;36m<module>\u001b[1;34m\u001b[0m\n\u001b[0;32m      1\u001b[0m \u001b[1;32mimport\u001b[0m \u001b[0msample\u001b[0m\u001b[1;33m\u001b[0m\u001b[1;33m\u001b[0m\u001b[0m\n\u001b[1;32m----> 2\u001b[1;33m \u001b[0mprint\u001b[0m\u001b[1;33m(\u001b[0m\u001b[0msample\u001b[0m\u001b[1;33m.\u001b[0m\u001b[0madd\u001b[0m\u001b[1;33m(\u001b[0m\u001b[1;36m6\u001b[0m\u001b[1;33m,\u001b[0m\u001b[1;36m7\u001b[0m\u001b[1;33m)\u001b[0m\u001b[1;33m)\u001b[0m\u001b[1;33m\u001b[0m\u001b[1;33m\u001b[0m\u001b[0m\n\u001b[0m\u001b[0;32m      3\u001b[0m \u001b[0mprint\u001b[0m\u001b[1;33m(\u001b[0m\u001b[0msample\u001b[0m\u001b[1;33m.\u001b[0m\u001b[0msub\u001b[0m\u001b[1;33m(\u001b[0m\u001b[1;36m6\u001b[0m\u001b[1;33m,\u001b[0m\u001b[1;36m7\u001b[0m\u001b[1;33m)\u001b[0m\u001b[1;33m)\u001b[0m\u001b[1;33m\u001b[0m\u001b[1;33m\u001b[0m\u001b[0m\n\u001b[0;32m      4\u001b[0m \u001b[0mprint\u001b[0m\u001b[1;33m(\u001b[0m\u001b[0msample\u001b[0m\u001b[1;33m.\u001b[0m\u001b[0mmul\u001b[0m\u001b[1;33m(\u001b[0m\u001b[1;36m6\u001b[0m\u001b[1;33m,\u001b[0m\u001b[1;36m7\u001b[0m\u001b[1;33m)\u001b[0m\u001b[1;33m)\u001b[0m\u001b[1;33m\u001b[0m\u001b[1;33m\u001b[0m\u001b[0m\n",
      "\u001b[1;31mAttributeError\u001b[0m: module 'sample' has no attribute 'add'"
     ]
    }
   ],
   "source": [
    " import sample\n",
    "print(sample.add(6,7))\n",
    "print(sample.sub(6,7))\n",
    "print(sample.mul(6,7))"
   ]
  },
  {
   "cell_type": "code",
   "execution_count": null,
   "metadata": {},
   "outputs": [],
   "source": [
    "# print(module_10am_1.username)\n",
    "# print(module_10am_2.username)\n",
    "\n",
    "# 2nd Syntax\n",
    "# from module-name import functionalities\n",
    "# from module_10am_2 import *\n",
    "# from module_10am_1 import *\n",
    "# from module_10am_2 import *\n",
    "# from module_10am_1 import *\n",
    "# print(username)\n",
    "# print(password)\n",
    "\n",
    "# print(add(4,5))\n",
    "\n",
    "\n",
    "# import module_10am_1\n",
    "# import module_10am_2\n",
    "\n",
    "# print(module_10am_1.username)\n",
    "# print(module_10am_2.username)\n",
    "# print(module_10am_1.add(3,4))\n",
    "# print(module_10am_2.add(3,4,5))\n",
    "\n",
    "\n",
    "\n",
    "\n",
    "# import sys\n",
    "\n",
    "# # print(sys.path)\n",
    "\n",
    "# sys.path.append(\"C:/Users/sreddy/Desktop\")\n",
    "\n",
    "# # print(sys.path)\n",
    "\n",
    "# import module_10am_2\n",
    "\n",
    "# print(help('modules'))\n",
    "\n",
    "# pip list -- list all the modules which you have download externally.."
   ]
  },
  {
   "cell_type": "markdown",
   "metadata": {},
   "source": [
    "# Python will check into 3 locations when we import a module.\n",
    "    # 1) Current Working Folder..\n",
    "    # 2) Where Python Installed inside the system..\n",
    "    # 3) Where Python Environment varibales path is set..."
   ]
  },
  {
   "cell_type": "code",
   "execution_count": 8,
   "metadata": {},
   "outputs": [],
   "source": [
    "import sys"
   ]
  },
  {
   "cell_type": "code",
   "execution_count": 9,
   "metadata": {},
   "outputs": [
    {
     "name": "stdout",
     "output_type": "stream",
     "text": [
      "['C:\\\\Users\\\\hari\\\\PYTHON', 'D:\\\\Anaconda3\\\\python37.zip', 'D:\\\\Anaconda3\\\\DLLs', 'D:\\\\Anaconda3\\\\lib', 'D:\\\\Anaconda3', '', 'D:\\\\Anaconda3\\\\lib\\\\site-packages', 'D:\\\\Anaconda3\\\\lib\\\\site-packages\\\\win32', 'D:\\\\Anaconda3\\\\lib\\\\site-packages\\\\win32\\\\lib', 'D:\\\\Anaconda3\\\\lib\\\\site-packages\\\\Pythonwin', 'D:\\\\Anaconda3\\\\lib\\\\site-packages\\\\IPython\\\\extensions', 'C:\\\\Users\\\\hari\\\\.ipython']\n"
     ]
    }
   ],
   "source": [
    "print(sys.path)"
   ]
  },
  {
   "cell_type": "code",
   "execution_count": 10,
   "metadata": {},
   "outputs": [],
   "source": [
    "sys.path.append(\"C:\\\\Users\\\\hari\\\\PYTHON\")"
   ]
  },
  {
   "cell_type": "code",
   "execution_count": 11,
   "metadata": {},
   "outputs": [
    {
     "name": "stdout",
     "output_type": "stream",
     "text": [
      "['C:\\\\Users\\\\hari\\\\PYTHON', 'D:\\\\Anaconda3\\\\python37.zip', 'D:\\\\Anaconda3\\\\DLLs', 'D:\\\\Anaconda3\\\\lib', 'D:\\\\Anaconda3', '', 'D:\\\\Anaconda3\\\\lib\\\\site-packages', 'D:\\\\Anaconda3\\\\lib\\\\site-packages\\\\win32', 'D:\\\\Anaconda3\\\\lib\\\\site-packages\\\\win32\\\\lib', 'D:\\\\Anaconda3\\\\lib\\\\site-packages\\\\Pythonwin', 'D:\\\\Anaconda3\\\\lib\\\\site-packages\\\\IPython\\\\extensions', 'C:\\\\Users\\\\hari\\\\.ipython', 'C:\\\\Users\\\\hari\\\\PYTHON']\n"
     ]
    }
   ],
   "source": [
    "print(sys.path)"
   ]
  },
  {
   "cell_type": "code",
   "execution_count": 12,
   "metadata": {},
   "outputs": [
    {
     "name": "stdout",
     "output_type": "stream",
     "text": [
      "\n",
      "Please wait a moment while I gather a list of all available modules...\n",
      "\n"
     ]
    },
    {
     "name": "stderr",
     "output_type": "stream",
     "text": [
      "D:\\Anaconda3\\lib\\site-packages\\IPython\\kernel\\__init__.py:13: ShimWarning: The `IPython.kernel` package has been deprecated since IPython 4.0.You should import from ipykernel or jupyter_client instead.\n",
      "  \"You should import from ipykernel or jupyter_client instead.\", ShimWarning)\n"
     ]
    },
    {
     "name": "stdout",
     "output_type": "stream",
     "text": [
      "DEBUG:pip._internal.vcs.versioncontrol:Registered VCS backend: bzr\n",
      "DEBUG:pip._internal.vcs.versioncontrol:Registered VCS backend: git\n",
      "DEBUG:pip._internal.vcs.versioncontrol:Registered VCS backend: hg\n",
      "DEBUG:pip._internal.vcs.versioncontrol:Registered VCS backend: svn\n"
     ]
    },
    {
     "name": "stderr",
     "output_type": "stream",
     "text": [
      "D:\\Anaconda3\\lib\\site-packages\\qtawesome\\iconic_font.py:301: UserWarning: You need to have a running QApplication to use QtAwesome!\n",
      "  warnings.warn(\"You need to have a running \"\n",
      "D:\\Anaconda3\\lib\\pkgutil.py:107: VisibleDeprecationWarning: zmq.eventloop.minitornado is deprecated in pyzmq 14.0 and will be removed.\n",
      "    Install tornado itself to use zmq with the tornado IOLoop.\n",
      "    \n",
      "  yield from walk_packages(path, info.name+'.', onerror)\n"
     ]
    },
    {
     "name": "stdout",
     "output_type": "stream",
     "text": [
      "IPython             brain_numpy_core_fromnumeric libarchive          spyder_io_dcm\n",
      "OpenSSL             brain_numpy_core_function_base libfuturize         spyder_io_hdf5\n",
      "PIL                 brain_numpy_core_multiarray libpasteurize       spyder_kernels\n",
      "PyQt5               brain_numpy_core_numeric lief                spyder_profiler\n",
      "__future__          brain_numpy_core_numerictypes linecache           spyder_pylint\n",
      "_abc                brain_numpy_core_umath locale              sqlite3\n",
      "_ast                brain_numpy_ndarray logging             sre_compile\n",
      "_asyncio            brain_numpy_random_mtrand lzma                sre_constants\n",
      "_bisect             brain_numpy_utils   macpath             sre_parse\n",
      "_blake2             brain_pkg_resources mailbox             ssl\n",
      "_bootlocale         brain_pytest        mailcap             sspi\n",
      "_bz2                brain_qt            markupsafe          sspicon\n",
      "_cffi_backend       brain_random        marshal             stat\n",
      "_codecs             brain_re            math                statistics\n",
      "_codecs_cn          brain_six           mccabe              storemagic\n",
      "_codecs_hk          brain_ssl           menuinst            string\n",
      "_codecs_iso2022     brain_subprocess    mimetypes           stringprep\n",
      "_codecs_jp          brain_threading     mistune             struct\n",
      "_codecs_kr          brain_typing        mmap                subprocess\n",
      "_codecs_tw          brain_uuid          mmapfile            sunau\n",
      "_collections        bs4                 mmsystem            symbol\n",
      "_collections_abc    builtins            modulefinder        sympyprinting\n",
      "_compat_pickle      bz2                 more_itertools      symtable\n",
      "_compression        cProfile            msilib              sys\n",
      "_contextvars        calendar            msvcrt              sysconfig\n",
      "_csv                certifi             multiprocessing     tabnanny\n",
      "_ctypes             cffi                navigator_updater   tarfile\n",
      "_ctypes_test        cgi                 nbconvert           telnetlib\n",
      "_datetime           cgitb               nbformat            tempfile\n",
      "_decimal            chardet             netbios             terminado\n",
      "_dummy_thread       chunk               netrc               test\n",
      "_elementtree        click               nntplib             test_data\n",
      "_functools          cloudpickle         notebook            test_pycosat\n",
      "_hashlib            clyent              nt                  testpath\n",
      "_heapq              cmath               ntpath              tests\n",
      "_imp                cmd                 ntsecuritycon       textwrap\n",
      "_io                 code                nturl2path          this\n",
      "_json               codecs              numbers             threading\n",
      "_locale             codeop              numpydoc            time\n",
      "_lsprof             collections         odbc                timeit\n",
      "_lzma               colorama            olefile             timer\n",
      "_markupbase         colorsys            opcode              tkinter\n",
      "_md5                commctrl            operator            token\n",
      "_msi                compileall          optparse            tokenize\n",
      "_multibytecodec     concurrent          os                  tornado\n",
      "_multiprocessing    conda               packaging           tqdm\n",
      "_nsis               conda_build         pandocfilters       trace\n",
      "_opcode             conda_env           parser              traceback\n",
      "_operator           conda_package_handling parso               tracemalloc\n",
      "_osx_support        conda_verify        past                traitlets\n",
      "_overlapped         configparser        pathlib             tty\n",
      "_pickle             contextlib          pdb                 turtle\n",
      "_py_abc             contextvars         perfmon             turtledemo\n",
      "_pydecimal          copy                pickle              types\n",
      "_pyio               copyreg             pickleshare         typing\n",
      "_pylief             crypt               pickletools         unicodedata\n",
      "_pyrsistent_version cryptography        pip                 unittest\n",
      "_queue              csv                 pipes               urllib\n",
      "_random             ctypes              pkg_resources       urllib3\n",
      "_sha1               curses              pkginfo             uu\n",
      "_sha256             cwp                 pkgutil             uuid\n",
      "_sha3               cythonmagic         platform            venv\n",
      "_sha512             dataclasses         plistlib            warnings\n",
      "_signal             datetime            poplib              wave\n",
      "_sitebuiltins       dateutil            posixpath           wcwidth\n",
      "_socket             dbi                 pprint              weakref\n",
      "_sqlite3            dbm                 profile             webbrowser\n",
      "_sre                dde                 prometheus_client   webencodings\n",
      "_ssl                decimal             prompt_toolkit      wheel\n",
      "_stat               decorator           pstats              win2kras\n",
      "_string             defusedxml          psutil              win32api\n",
      "_strptime           difflib             pty                 win32clipboard\n",
      "_struct             dis                 pvectorc            win32com\n",
      "_symtable           distutils           py_compile          win32con\n",
      "_system_path        doctest             pyclbr              win32console\n",
      "_testbuffer         docutils            pycodestyle         win32cred\n",
      "_testcapi           dummy_threading     pycosat             win32crypt\n",
      "_testconsole        easy_install        pycparser           win32cryptcon\n",
      "_testimportmultiple email               pydoc               win32ctypes\n",
      "_testmultiphase     encodings           pydoc_data          win32event\n",
      "_thread             ensurepip           pyexpat             win32evtlog\n",
      "_threading_local    entrypoints         pyflakes            win32evtlogutil\n",
      "_tkinter            enum                pygments            win32file\n",
      "_tracemalloc        errno               pylint              win32gui\n",
      "_warnings           faulthandler        pyparsing           win32gui_struct\n",
      "_weakref            filecmp             pyrsistent          win32help\n",
      "_weakrefset         fileinput           pythoncom           win32inet\n",
      "_win32sysloader     filelock            pytz                win32inetcon\n",
      "_winapi             fnmatch             pywin               win32job\n",
      "_winxptheme         formatter           pywin32_testutil    win32lz\n",
      "_yaml               fractions           pywintypes          win32net\n",
      "abc                 ftplib              qtawesome           win32netcon\n",
      "adodbapi            functools           qtconsole           win32pdh\n",
      "afxres              future              qtpy                win32pdhquery\n",
      "aifc                gc                  queue               win32pdhutil\n",
      "alabaster           genericpath         quopri              win32pipe\n",
      "anaconda_navigator  getopt              random              win32print\n",
      "antigravity         getpass             rasutil             win32process\n",
      "argparse            gettext             re                  win32profile\n",
      "array               glob                regcheck            win32ras\n",
      "asn1crypto          glob2               regutil             win32rcparser\n",
      "ast                 gzip                reprlib             win32security\n",
      "astroid             hashlib             requests            win32service\n",
      "asynchat            heapq               rlcompleter         win32serviceutil\n",
      "asyncio             hmac                rmagic              win32timezone\n",
      "asyncore            html                rope                win32trace\n",
      "atexit              http                ruamel_yaml         win32traceutil\n",
      "attr                idlelib             runpy               win32transaction\n",
      "audioop             idna                sample              win32ts\n",
      "autoreload          imagesize           sched               win32ui\n",
      "babel               imaplib             scripts             win32uiole\n",
      "backcall            imghdr              secrets             win32verstamp\n",
      "backports           imp                 select              win32wnet\n",
      "base64              importlib           selectors           win_inet_pton\n",
      "bdb                 importlib_metadata  send2trash          wincertstore\n",
      "binascii            inspect             servicemanager      winerror\n",
      "binhex              io                  setuptools          winioctlcon\n",
      "binstar_client      ipaddress           shelve              winnt\n",
      "bisect              ipykernel           shlex               winperf\n",
      "bleach              ipykernel_launcher  shutil              winpty\n",
      "brain_argparse      ipython_genutils    signal              winreg\n",
      "brain_attrs         isapi               sip                 winsound\n",
      "brain_builtin_inference isort               sipconfig           winxpgui\n",
      "brain_collections   itertools           sipdistutils        winxptheme\n",
      "brain_crypt         jedi                site                wrapt\n",
      "brain_curses        jinja2              six                 wsgiref\n",
      "brain_dataclasses   json                smtpd               xdrlib\n",
      "brain_dateutil      json5               smtplib             xml\n",
      "brain_fstrings      jsonschema          sndhdr              xmlrpc\n",
      "brain_functools     jupyter             snowballstemmer     xxsubtype\n",
      "brain_gi            jupyter_client      socket              yaml\n",
      "brain_hashlib       jupyter_core        socketserver        zipapp\n",
      "brain_http          jupyterlab          socks               zipfile\n",
      "brain_io            jupyterlab_server   sockshandler        zipimport\n",
      "brain_mechanize     keyring             soupsieve           zipp\n",
      "brain_multiprocessing keyword             sphinx              zlib\n",
      "brain_namedtuple_enum lazy_object_proxy   spyder              zmq\n",
      "brain_nose          lib2to3             spyder_breakpoints  \n",
      "\n",
      "Enter any module name to get more help.  Or, type \"modules spam\" to search\n",
      "for modules whose name or summary contain the string \"spam\".\n",
      "\n",
      "None\n"
     ]
    }
   ],
   "source": [
    "print(help('modules'))"
   ]
  },
  {
   "cell_type": "markdown",
   "metadata": {},
   "source": [
    "# Inbuilt modules -- Random,datetime,calendar,os,urllib"
   ]
  },
  {
   "cell_type": "code",
   "execution_count": 13,
   "metadata": {},
   "outputs": [],
   "source": [
    "import random"
   ]
  },
  {
   "cell_type": "code",
   "execution_count": 14,
   "metadata": {},
   "outputs": [
    {
     "name": "stdout",
     "output_type": "stream",
     "text": [
      "['BPF', 'LOG4', 'NV_MAGICCONST', 'RECIP_BPF', 'Random', 'SG_MAGICCONST', 'SystemRandom', 'TWOPI', '_BuiltinMethodType', '_MethodType', '_Sequence', '_Set', '__all__', '__builtins__', '__cached__', '__doc__', '__file__', '__loader__', '__name__', '__package__', '__spec__', '_acos', '_bisect', '_ceil', '_cos', '_e', '_exp', '_inst', '_itertools', '_log', '_os', '_pi', '_random', '_sha512', '_sin', '_sqrt', '_test', '_test_generator', '_urandom', '_warn', 'betavariate', 'choice', 'choices', 'expovariate', 'gammavariate', 'gauss', 'getrandbits', 'getstate', 'lognormvariate', 'normalvariate', 'paretovariate', 'randint', 'random', 'randrange', 'sample', 'seed', 'setstate', 'shuffle', 'triangular', 'uniform', 'vonmisesvariate', 'weibullvariate']\n"
     ]
    }
   ],
   "source": [
    "print(dir(random))"
   ]
  },
  {
   "cell_type": "code",
   "execution_count": 16,
   "metadata": {},
   "outputs": [
    {
     "name": "stdout",
     "output_type": "stream",
     "text": [
      "0.9743924524750474\n"
     ]
    }
   ],
   "source": [
    "\n",
    "print(random.random()) # random floating value between 0 and 1.."
   ]
  },
  {
   "cell_type": "code",
   "execution_count": 18,
   "metadata": {},
   "outputs": [
    {
     "name": "stdout",
     "output_type": "stream",
     "text": [
      "584196\n"
     ]
    }
   ],
   "source": [
    "print(random.randint(100000,999999)) # will give random integer value between that specified range..\n"
   ]
  },
  {
   "cell_type": "code",
   "execution_count": 21,
   "metadata": {},
   "outputs": [
    {
     "name": "stdout",
     "output_type": "stream",
     "text": [
      "Festive35\n",
      "['Zee40', 'SwiggyIT', 'Fresher30', 'Festive35']\n"
     ]
    }
   ],
   "source": [
    "\n",
    "a=['Fresher30','Festive35','SwiggyIT','Zee40']\n",
    "print(random.choice(a))\n",
    "random.shuffle(a)\n",
    "print(a)"
   ]
  },
  {
   "cell_type": "code",
   "execution_count": 22,
   "metadata": {},
   "outputs": [],
   "source": [
    "import datetime"
   ]
  },
  {
   "cell_type": "code",
   "execution_count": 24,
   "metadata": {},
   "outputs": [
    {
     "name": "stdout",
     "output_type": "stream",
     "text": [
      "['__add__', '__class__', '__delattr__', '__dir__', '__doc__', '__eq__', '__format__', '__ge__', '__getattribute__', '__gt__', '__hash__', '__init__', '__init_subclass__', '__le__', '__lt__', '__ne__', '__new__', '__radd__', '__reduce__', '__reduce_ex__', '__repr__', '__rsub__', '__setattr__', '__sizeof__', '__str__', '__sub__', '__subclasshook__', 'astimezone', 'combine', 'ctime', 'date', 'day', 'dst', 'fold', 'fromisoformat', 'fromordinal', 'fromtimestamp', 'hour', 'isocalendar', 'isoformat', 'isoweekday', 'max', 'microsecond', 'min', 'minute', 'month', 'now', 'replace', 'resolution', 'second', 'strftime', 'strptime', 'time', 'timestamp', 'timetuple', 'timetz', 'today', 'toordinal', 'tzinfo', 'tzname', 'utcfromtimestamp', 'utcnow', 'utcoffset', 'utctimetuple', 'weekday', 'year']\n"
     ]
    }
   ],
   "source": [
    "print(dir(datetime.datetime))"
   ]
  },
  {
   "cell_type": "code",
   "execution_count": 25,
   "metadata": {},
   "outputs": [
    {
     "name": "stdout",
     "output_type": "stream",
     "text": [
      "2020\n",
      "54\n",
      "2020-05-21 12:03:54.060031\n",
      "2020-04-06 13:03:54.060031\n"
     ]
    }
   ],
   "source": [
    "print(datetime.datetime.today().date().year)\n",
    "print(datetime.datetime.today().time().second)\n",
    "print(datetime.datetime.today()+datetime.timedelta(days=45))\n",
    "print(datetime.datetime.today()+datetime.timedelta(minutes=60))"
   ]
  },
  {
   "cell_type": "code",
   "execution_count": 26,
   "metadata": {},
   "outputs": [],
   "source": [
    "# strftime\n",
    "# strptime\n",
    "\n",
    "\n",
    "import calendar"
   ]
  },
  {
   "cell_type": "code",
   "execution_count": 27,
   "metadata": {},
   "outputs": [
    {
     "name": "stdout",
     "output_type": "stream",
     "text": [
      "   December 2020\n",
      "Mo Tu We Th Fr Sa Su\n",
      "    1  2  3  4  5  6\n",
      " 7  8  9 10 11 12 13\n",
      "14 15 16 17 18 19 20\n",
      "21 22 23 24 25 26 27\n",
      "28 29 30 31\n",
      "\n",
      "                                  2020\n",
      "\n",
      "      January                   February                   March\n",
      "Mo Tu We Th Fr Sa Su      Mo Tu We Th Fr Sa Su      Mo Tu We Th Fr Sa Su\n",
      "       1  2  3  4  5                      1  2                         1\n",
      " 6  7  8  9 10 11 12       3  4  5  6  7  8  9       2  3  4  5  6  7  8\n",
      "13 14 15 16 17 18 19      10 11 12 13 14 15 16       9 10 11 12 13 14 15\n",
      "20 21 22 23 24 25 26      17 18 19 20 21 22 23      16 17 18 19 20 21 22\n",
      "27 28 29 30 31            24 25 26 27 28 29         23 24 25 26 27 28 29\n",
      "                                                    30 31\n",
      "\n",
      "       April                      May                       June\n",
      "Mo Tu We Th Fr Sa Su      Mo Tu We Th Fr Sa Su      Mo Tu We Th Fr Sa Su\n",
      "       1  2  3  4  5                   1  2  3       1  2  3  4  5  6  7\n",
      " 6  7  8  9 10 11 12       4  5  6  7  8  9 10       8  9 10 11 12 13 14\n",
      "13 14 15 16 17 18 19      11 12 13 14 15 16 17      15 16 17 18 19 20 21\n",
      "20 21 22 23 24 25 26      18 19 20 21 22 23 24      22 23 24 25 26 27 28\n",
      "27 28 29 30               25 26 27 28 29 30 31      29 30\n",
      "\n",
      "        July                     August                  September\n",
      "Mo Tu We Th Fr Sa Su      Mo Tu We Th Fr Sa Su      Mo Tu We Th Fr Sa Su\n",
      "       1  2  3  4  5                      1  2          1  2  3  4  5  6\n",
      " 6  7  8  9 10 11 12       3  4  5  6  7  8  9       7  8  9 10 11 12 13\n",
      "13 14 15 16 17 18 19      10 11 12 13 14 15 16      14 15 16 17 18 19 20\n",
      "20 21 22 23 24 25 26      17 18 19 20 21 22 23      21 22 23 24 25 26 27\n",
      "27 28 29 30 31            24 25 26 27 28 29 30      28 29 30\n",
      "                          31\n",
      "\n",
      "      October                   November                  December\n",
      "Mo Tu We Th Fr Sa Su      Mo Tu We Th Fr Sa Su      Mo Tu We Th Fr Sa Su\n",
      "          1  2  3  4                         1          1  2  3  4  5  6\n",
      " 5  6  7  8  9 10 11       2  3  4  5  6  7  8       7  8  9 10 11 12 13\n",
      "12 13 14 15 16 17 18       9 10 11 12 13 14 15      14 15 16 17 18 19 20\n",
      "19 20 21 22 23 24 25      16 17 18 19 20 21 22      21 22 23 24 25 26 27\n",
      "26 27 28 29 30 31         23 24 25 26 27 28 29      28 29 30 31\n",
      "                          30\n",
      "\n",
      "True\n",
      "5\n"
     ]
    }
   ],
   "source": [
    "print(calendar.month(2020,12))\n",
    "print(calendar.calendar(2020))\n",
    "print(calendar.isleap(1996))\n",
    "print(calendar.weekday(1996,5,25))\n"
   ]
  },
  {
   "cell_type": "code",
   "execution_count": 30,
   "metadata": {},
   "outputs": [
    {
     "name": "stdout",
     "output_type": "stream",
     "text": [
      "Jun\n"
     ]
    },
    {
     "ename": "TypeError",
     "evalue": "'_localized_month' object is not callable",
     "output_type": "error",
     "traceback": [
      "\u001b[1;31m---------------------------------------------------------------------------\u001b[0m",
      "\u001b[1;31mTypeError\u001b[0m                                 Traceback (most recent call last)",
      "\u001b[1;32m<ipython-input-30-59b79175b3c4>\u001b[0m in \u001b[0;36m<module>\u001b[1;34m\u001b[0m\n\u001b[0;32m      3\u001b[0m \u001b[1;33m\u001b[0m\u001b[0m\n\u001b[0;32m      4\u001b[0m  \u001b[1;31m#(2020,7,5)\u001b[0m\u001b[1;33m\u001b[0m\u001b[1;33m\u001b[0m\u001b[1;33m\u001b[0m\u001b[0m\n\u001b[1;32m----> 5\u001b[1;33m \u001b[0mprint\u001b[0m\u001b[1;33m(\u001b[0m\u001b[0mcalendar\u001b[0m\u001b[1;33m.\u001b[0m\u001b[0mmonth_name\u001b[0m\u001b[1;33m[\u001b[0m\u001b[0mcalendar\u001b[0m\u001b[1;33m.\u001b[0m\u001b[0mmonth_abbr\u001b[0m\u001b[1;33m(\u001b[0m\u001b[1;36m2020\u001b[0m\u001b[1;33m,\u001b[0m\u001b[1;36m4\u001b[0m\u001b[1;33m,\u001b[0m\u001b[1;36m3\u001b[0m\u001b[1;33m)\u001b[0m\u001b[1;33m]\u001b[0m\u001b[1;33m)\u001b[0m\u001b[1;33m\u001b[0m\u001b[1;33m\u001b[0m\u001b[0m\n\u001b[0m",
      "\u001b[1;31mTypeError\u001b[0m: '_localized_month' object is not callable"
     ]
    }
   ],
   "source": [
    "# 0-monday  ---> 6-sunday\n",
    "print(calendar.month_abbr[6])\n",
    "\n",
    " #(2020,7,5)\n",
    "print(calendar.month_name[calendar.month_abbr(2020,4,3)])"
   ]
  },
  {
   "cell_type": "code",
   "execution_count": 3,
   "metadata": {},
   "outputs": [
    {
     "name": "stdout",
     "output_type": "stream",
     "text": [
      "C:\\Users\\hari\\PYTHON\n"
     ]
    }
   ],
   "source": [
    "import os\n",
    "print(os.getcwd())"
   ]
  },
  {
   "cell_type": "code",
   "execution_count": 6,
   "metadata": {},
   "outputs": [
    {
     "data": {
      "text/plain": [
       "<function nt.chdir(path)>"
      ]
     },
     "execution_count": 6,
     "metadata": {},
     "output_type": "execute_result"
    }
   ],
   "source": [
    "os.chdir"
   ]
  },
  {
   "cell_type": "code",
   "execution_count": 7,
   "metadata": {},
   "outputs": [
    {
     "name": "stdout",
     "output_type": "stream",
     "text": [
      "['.ipynb_checkpoints', 'Control statements.ipynb', 'datatypes.ipynb', 'Dictionary.ipynb', 'Functions.ipynb', 'keywords.ipynb', 'keywords1.ipynb', 'Lists.ipynb', 'looping statements.ipynb', 'Modules.ipynb', 'mutable and immutable.ipynb', 'Numbers.ipynb', 'operators.ipynb', 'sample.py', 'Sets.ipynb', 'Strings-methods.ipynb', 'Strings.ipynb', 'Tuples.ipynb', 'Untitled.ipynb', 'Untitled1.ipynb', 'variables.ipynb', '__pycache__']\n"
     ]
    }
   ],
   "source": [
    "print(os.listdir(\".\"))"
   ]
  },
  {
   "cell_type": "code",
   "execution_count": 8,
   "metadata": {},
   "outputs": [
    {
     "name": "stdout",
     "output_type": "stream",
     "text": [
      "['DirEntry', 'F_OK', 'MutableMapping', 'O_APPEND', 'O_BINARY', 'O_CREAT', 'O_EXCL', 'O_NOINHERIT', 'O_RANDOM', 'O_RDONLY', 'O_RDWR', 'O_SEQUENTIAL', 'O_SHORT_LIVED', 'O_TEMPORARY', 'O_TEXT', 'O_TRUNC', 'O_WRONLY', 'P_DETACH', 'P_NOWAIT', 'P_NOWAITO', 'P_OVERLAY', 'P_WAIT', 'PathLike', 'R_OK', 'SEEK_CUR', 'SEEK_END', 'SEEK_SET', 'TMP_MAX', 'W_OK', 'X_OK', '_Environ', '__all__', '__builtins__', '__cached__', '__doc__', '__file__', '__loader__', '__name__', '__package__', '__spec__', '_execvpe', '_exists', '_exit', '_fspath', '_get_exports_list', '_putenv', '_unsetenv', '_wrap_close', 'abc', 'abort', 'access', 'altsep', 'chdir', 'chmod', 'close', 'closerange', 'cpu_count', 'curdir', 'defpath', 'device_encoding', 'devnull', 'dup', 'dup2', 'environ', 'error', 'execl', 'execle', 'execlp', 'execlpe', 'execv', 'execve', 'execvp', 'execvpe', 'extsep', 'fdopen', 'fsdecode', 'fsencode', 'fspath', 'fstat', 'fsync', 'ftruncate', 'get_exec_path', 'get_handle_inheritable', 'get_inheritable', 'get_terminal_size', 'getcwd', 'getcwdb', 'getenv', 'getlogin', 'getpid', 'getppid', 'isatty', 'kill', 'linesep', 'link', 'listdir', 'lseek', 'lstat', 'makedirs', 'mkdir', 'name', 'open', 'pardir', 'path', 'pathsep', 'pipe', 'popen', 'putenv', 'read', 'readlink', 'remove', 'removedirs', 'rename', 'renames', 'replace', 'rmdir', 'scandir', 'sep', 'set_handle_inheritable', 'set_inheritable', 'spawnl', 'spawnle', 'spawnv', 'spawnve', 'st', 'startfile', 'stat', 'stat_result', 'statvfs_result', 'strerror', 'supports_bytes_environ', 'supports_dir_fd', 'supports_effective_ids', 'supports_fd', 'supports_follow_symlinks', 'symlink', 'sys', 'system', 'terminal_size', 'times', 'times_result', 'truncate', 'umask', 'uname_result', 'unlink', 'urandom', 'utime', 'waitpid', 'walk', 'write']\n"
     ]
    }
   ],
   "source": [
    "print(dir(os))"
   ]
  },
  {
   "cell_type": "code",
   "execution_count": 10,
   "metadata": {},
   "outputs": [],
   "source": [
    "os.mkdir(\"Folder1\")\n",
    "os.rmdir(\"Folder1\")"
   ]
  },
  {
   "cell_type": "code",
   "execution_count": 13,
   "metadata": {},
   "outputs": [],
   "source": [
    "# Import os\n",
    "\n",
    "# import os\n",
    "\n",
    "# # print(os.getcwd()) # current working directory..\n",
    "\n",
    "# os.chdir(\"C:/Users/sreddy/Documents/Python-Sessions-US\")\n",
    "\n",
    "# print(os.getcwd())\n",
    "\n",
    "# # print(os.listdir(\".\")) # will lis all the folders and files inside the particualr folder..\n",
    "# # print(dir(os))\n",
    "\n",
    "# # print(os.path.isfile(\"C:/Users/sreddy/Documents/Python-Sessions-US/intr.py\"))\n",
    "\n",
    "# # os.mkdir(\"Folder1\")\n",
    "\n",
    "# # os.rmdir(\"Folder1\")\n",
    "\n",
    "# # os.makedirs(\"Folder1/Folder2/Folder3\")\n",
    "# os.removedirs(\"Folder1/Folder2/Folder3\")"
   ]
  },
  {
   "cell_type": "code",
   "execution_count": 2,
   "metadata": {},
   "outputs": [],
   "source": [
    "import os\n",
    "os.removedirs(\"Folder1/Folder2/Folder3\")"
   ]
  },
  {
   "cell_type": "code",
   "execution_count": 14,
   "metadata": {},
   "outputs": [],
   "source": [
    "import urllib.request"
   ]
  },
  {
   "cell_type": "code",
   "execution_count": 17,
   "metadata": {},
   "outputs": [
    {
     "ename": "AttributeError",
     "evalue": "'function' object has no attribute 'read'",
     "output_type": "error",
     "traceback": [
      "\u001b[1;31m---------------------------------------------------------------------------\u001b[0m",
      "\u001b[1;31mAttributeError\u001b[0m                            Traceback (most recent call last)",
      "\u001b[1;32m<ipython-input-17-31a12ddb6af3>\u001b[0m in \u001b[0;36m<module>\u001b[1;34m\u001b[0m\n\u001b[0;32m      1\u001b[0m \u001b[0murl_data\u001b[0m \u001b[1;33m=\u001b[0m \u001b[0murllib\u001b[0m\u001b[1;33m.\u001b[0m\u001b[0mrequest\u001b[0m\u001b[1;33m.\u001b[0m\u001b[0murlopen\u001b[0m\u001b[1;33m\u001b[0m\u001b[1;33m\u001b[0m\u001b[0m\n\u001b[1;32m----> 2\u001b[1;33m \u001b[0mprint\u001b[0m\u001b[1;33m(\u001b[0m\u001b[0murl_data\u001b[0m\u001b[1;33m.\u001b[0m\u001b[0mread\u001b[0m\u001b[1;33m(\u001b[0m\u001b[1;33m)\u001b[0m\u001b[1;33m)\u001b[0m\u001b[1;33m\u001b[0m\u001b[1;33m\u001b[0m\u001b[0m\n\u001b[0m",
      "\u001b[1;31mAttributeError\u001b[0m: 'function' object has no attribute 'read'"
     ]
    }
   ],
   "source": [
    "url_data = urllib.request.urlopen\n",
    "print(url_data.read())"
   ]
  },
  {
   "cell_type": "code",
   "execution_count": null,
   "metadata": {},
   "outputs": [],
   "source": [
    "# Urllib\n",
    "\n",
    "# import urllib.request\n",
    "\n",
    "# url_data = urllib.request.urlopen(\"https://www.indeed.co.in/jobs?q=python&l=Hyderabad%2C+Telangana\")\n",
    "\n",
    "# print(url_data.read())\n",
    "\n",
    "# bs4 -- beautifulsoup4(Best Module for scraping the details)\n",
    "\n",
    "# External Modules:- Those which we download externally based on the requirement..\n",
    "\n",
    "# pip -- Python Package Manager..(installing the modules for python..)\n",
    "\n",
    "# pip install package-name\n",
    "\n",
    "# pip install numpy\n",
    "\n",
    "\n",
    "# pip list  -- will list all the packages you have downloaded externally.."
   ]
  }
 ],
 "metadata": {
  "kernelspec": {
   "display_name": "Python 3",
   "language": "python",
   "name": "python3"
  },
  "language_info": {
   "codemirror_mode": {
    "name": "ipython",
    "version": 3
   },
   "file_extension": ".py",
   "mimetype": "text/x-python",
   "name": "python",
   "nbconvert_exporter": "python",
   "pygments_lexer": "ipython3",
   "version": "3.7.4"
  }
 },
 "nbformat": 4,
 "nbformat_minor": 2
}
