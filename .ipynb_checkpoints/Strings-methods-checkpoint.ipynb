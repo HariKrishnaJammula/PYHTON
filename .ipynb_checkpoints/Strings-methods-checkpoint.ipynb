{
 "cells": [
  {
   "cell_type": "markdown",
   "metadata": {},
   "source": [
    "# String Methods -- \n",
    "\n",
    "\n",
    "    1. startswith\n",
    "    2. endswith\n",
    "    3. lower\n",
    "    4. upper\n",
    "    5. islower\n",
    "    6. isupper\n",
    "    7. captialize\n",
    "    8. title\n",
    "    9. swapcase\n",
    "    10. isdigital\n",
    "    11. isalpha\n",
    "    12. isalnum\n",
    "    13. find\n",
    "    14. index\n",
    "    15. count\n",
    "    16. zfill\n",
    "    17. replace\n",
    "    18. split\n",
    "    19. strip\n",
    "    20. rstrip\n",
    "    21. lstrip.\n",
    "\n",
    "\n"
   ]
  },
  {
   "cell_type": "markdown",
   "metadata": {},
   "source": [
    "#  startswith-- \n",
    "                      Whether your string stars with specified substring or not..\n",
    "                   \n",
    "# endswith -- \n",
    "                    same like starswith but check at the end of ths string.."
   ]
  },
  {
   "cell_type": "code",
   "execution_count": 15,
   "metadata": {},
   "outputs": [
    {
     "name": "stdout",
     "output_type": "stream",
     "text": [
      "holla\n",
      "hara\n"
     ]
    },
    {
     "data": {
      "text/plain": [
       "True"
      ]
     },
     "execution_count": 15,
     "metadata": {},
     "output_type": "execute_result"
    }
   ],
   "source": [
    "a=[\"reddy\",'holla','hara','nomad']\n",
    "\n",
    "for j in a:\n",
    "    if j.startswith('h'):\n",
    "        print(j)\n",
    "c=\"this is fact\"\n",
    "c.startswith(\"this\")"
   ]
  },
  {
   "cell_type": "markdown",
   "metadata": {},
   "source": [
    "# # islower ---\n",
    "                      It is for checcking whwther all the alphabets are lowercase or not..\n",
    "\n",
    "\n",
    "                                    print(a.islower())\n",
    "\n",
    "# isupper() --\n",
    "                       It is for checckng whether all the alphabets are upper case only...\n",
    "                                    \n",
    "                                    print(a.isupper())\n",
    "\n",
    "# isalpha() -- \n",
    "                It is used to check whether all the elments in the strng are alphabets only...\n",
    "\n",
    "                                c=\"Python\"\n",
    "\n",
    " print(c.isalpha())\n",
    "\n",
    "# isalnum() -- \n",
    "                It is for checking whether the string contians all of them as alphanumeric,..\n",
    "\n",
    " d=\"Datascience 123\"\n",
    " print(d.isalnum())\n",
    "\n",
    "#  isdigit() -- \n",
    "                        \n",
    "                        It is for checking whtehr all the values are numbers only..\n",
    "                                   e=\"74774711aa\"\n",
    "                                print(e.isdigit())\n",
    "\n",
    "                      a=\"djaNGO fRAmework is for python\"\n",
    "# lower() --- \n",
    "                    Convert all the uppercase letters into lower case...\n",
    "\n",
    "                                     print(a.lower())\n",
    "                                 print(a)\n",
    "\n",
    "# Upper -- \n",
    "                            Convert all the lowercase to Upper case...\n",
    "                                 print(a.upper())\n",
    "\n",
    "# captialize ---\n",
    "                  Convert only starting charrcater of the string to upper and remaining is lower case... \n",
    "\n",
    "                          print(a.capitalize())\n",
    "\n",
    "# title() -- \n",
    "                Every word starting charcater will be converted to upper case...\n",
    "\n",
    "                            print(a.title())\n",
    "                                    \n",
    "# swapcase() --- \n",
    "                            converting lower to upper and upper to lower..\n",
    "                                 \n",
    "                                 print(a.swapcase())                                  \n",
    "                                    \n",
    "                                    \n",
    "            print(a.capitalize()) "
   ]
  },
  {
   "cell_type": "markdown",
   "metadata": {},
   "source": [
    "               \n",
    "# index -- for finding the index value of particular character insdie the strng...\n",
    "\n",
    "                             print(a.index('py'))\n",
    "                                                 print(a.index('o'))\n",
    "\n",
    "# count() -- Return no.of times particular charcetr is repeated inside the string..\n",
    "\n",
    "                                        print(a.count('o'))"
   ]
  },
  {
   "cell_type": "code",
   "execution_count": null,
   "metadata": {},
   "outputs": [],
   "source": []
  },
  {
   "cell_type": "code",
   "execution_count": null,
   "metadata": {},
   "outputs": [],
   "source": []
  },
  {
   "cell_type": "markdown",
   "metadata": {},
   "source": [
    "# find() -- \n",
    "                    Same like index which return index value os particular elments.\n",
    "\n",
    "\n",
    "# Difference is when the elments doesnot present index will give an error but find will return as -1... \n",
    "\n",
    "                print(a.find('py'))\n",
    "\n",
    "                         \n",
    "                        print(a.index('z'))\n",
    "             \n",
    "              print(a.find('z'))\n",
    "\n",
    "                                print(len(a))\n",
    "\n"
   ]
  },
  {
   "cell_type": "markdown",
   "metadata": {},
   "source": [
    "# replace -- "
   ]
  },
  {
   "cell_type": "code",
   "execution_count": 33,
   "metadata": {},
   "outputs": [
    {
     "name": "stdout",
     "output_type": "stream",
     "text": [
      "87\n",
      "if you problem the problem the problem problems you i am not the problem i am the truth\n"
     ]
    }
   ],
   "source": [
    "b=\"if you trouble the trouble the trouble troubles you i am not the trouble i am the truth\"\n",
    "print(len(b))\n",
    "print(b.replace('trouble','problem',))"
   ]
  },
  {
   "cell_type": "code",
   "execution_count": 34,
   "metadata": {},
   "outputs": [
    {
     "name": "stdout",
     "output_type": "stream",
     "text": [
      "if you problem the problem the trouble troubles you i am not the trouble i am the truth\n"
     ]
    }
   ],
   "source": [
    "print(b.replace('trouble','problem',2))"
   ]
  },
  {
   "cell_type": "code",
   "execution_count": null,
   "metadata": {},
   "outputs": [],
   "source": [
    "# what if we want the last trouble from the string should change::::\n",
    "\n",
    "\n",
    "   \n",
    "    "
   ]
  },
  {
   "cell_type": "markdown",
   "metadata": {},
   "source": [
    "# split -- \n",
    "              Split is for spliting the string into a list of words which will return the output as list....."
   ]
  },
  {
   "cell_type": "code",
   "execution_count": 40,
   "metadata": {},
   "outputs": [
    {
     "name": "stdout",
     "output_type": "stream",
     "text": [
      "['hari', 'krishna', 'jammula']\n",
      "['h', 'ri krishn', ' j', 'mmul', '']\n"
     ]
    }
   ],
   "source": [
    "x=\"hari krishna jammula\"\n",
    "print(x.split())\n",
    "print(x.split('a'))"
   ]
  },
  {
   "cell_type": "markdown",
   "metadata": {},
   "source": [
    "# strip() -- \n",
    "                 Its for removing the escape sequences and spcaes at the staring and ending of the string.. \n",
    "# lstrip() -- \n",
    "                    Remove escape sequence at starting of the string..\n",
    "# rstrip() --\n",
    "                   Remove escepae sequence at ending of the string..."
   ]
  },
  {
   "cell_type": "code",
   "execution_count": 42,
   "metadata": {},
   "outputs": [
    {
     "name": "stdout",
     "output_type": "stream",
     "text": [
      "python is a programming language\n",
      " \n",
      " \t django is a framework\n"
     ]
    }
   ],
   "source": [
    "a=\"\\npython is a programming language\\n \\n \\t django is a framework\"\n",
    "print(a.strip())"
   ]
  },
  {
   "cell_type": "code",
   "execution_count": 43,
   "metadata": {},
   "outputs": [
    {
     "name": "stdout",
     "output_type": "stream",
     "text": [
      "000008792747789\n"
     ]
    }
   ],
   "source": [
    "#  zfill() -- is filling with zero towards left side in the string..\n",
    " a=\"8792747789\"\n",
    "\n",
    " print(a.zfill(15))"
   ]
  },
  {
   "cell_type": "markdown",
   "metadata": {},
   "source": [
    "# Join -- for adding a special things for every element inside the datatype... "
   ]
  },
  {
   "cell_type": "code",
   "execution_count": 51,
   "metadata": {},
   "outputs": [
    {
     "name": "stdout",
     "output_type": "stream",
     "text": [
      "['python', 'is', 'used', 'for', 'web', 'developement']\n",
      "python-is-used-for-web-developement\n"
     ]
    }
   ],
   "source": [
    "a=\"python is used for web developement\"\n",
    "b=a.split()\n",
    "print(b)\n",
    "print(\"-\".join(b))"
   ]
  },
  {
   "cell_type": "markdown",
   "metadata": {},
   "source": [
    "# .format()         \n",
    "                                        ********important **********\n",
    "                                        \n",
    "                         -- STRING FORMATTING>>\n",
    "                         \n",
    "                       1. {}\n",
    "                       2. .format()\n",
    "                       for example below !!!!"
   ]
  },
  {
   "cell_type": "code",
   "execution_count": 53,
   "metadata": {},
   "outputs": [
    {
     "name": "stdout",
     "output_type": "stream",
     "text": [
      "john having empid 123 working at hyd\n"
     ]
    }
   ],
   "source": [
    "name=\"john\"\n",
    "empid=\"123\"\n",
    "\n",
    "city=\"hyd\"\n",
    "\n",
    "print(\"{} having empid {} working at {}\".format(name,empid,city))\n",
    "\n",
    "#  output as john having empid 123 working at hyd..\n",
    "\n"
   ]
  },
  {
   "cell_type": "code",
   "execution_count": 54,
   "metadata": {},
   "outputs": [
    {
     "name": "stdout",
     "output_type": "stream",
     "text": [
      "enter namehari krishna\n",
      "enter empid21341553\n",
      "enter cityhyderabad\n",
      "hari krishna having empid 21341553 working at hyderabad\n"
     ]
    }
   ],
   "source": [
    "name=input(\"enter name\")\n",
    "empid=input(\"enter empid\")\n",
    "\n",
    "city=input(\"enter city\")\n",
    "print(\"{} having empid {} working at {}\".format(name,empid,city))\n",
    "\n",
    "\n",
    "# hari file saved to cloud\n",
    "# hara file saved to cloud \n",
    "# ram file saved to cloud \n",
    "###### different name but pattern is same "
   ]
  },
  {
   "cell_type": "code",
   "execution_count": null,
   "metadata": {},
   "outputs": [],
   "source": []
  }
 ],
 "metadata": {
  "kernelspec": {
   "display_name": "Python 3",
   "language": "python",
   "name": "python3"
  },
  "language_info": {
   "codemirror_mode": {
    "name": "ipython",
    "version": 3
   },
   "file_extension": ".py",
   "mimetype": "text/x-python",
   "name": "python",
   "nbconvert_exporter": "python",
   "pygments_lexer": "ipython3",
   "version": "3.7.4"
  }
 },
 "nbformat": 4,
 "nbformat_minor": 2
}
