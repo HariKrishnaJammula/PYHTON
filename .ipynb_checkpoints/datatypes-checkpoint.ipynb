{
 "cells": [
  {
   "cell_type": "markdown",
   "metadata": {},
   "source": [
    "# datatypes in python :::\n",
    "    \n",
    "   1) NUmbers-- (int, float ,complex(a+ib))\n",
    "   \n",
    "   2) Strings--(  anything declared  inside \" \")  collection of values for example :::: str=\"hari@123#\"\n",
    "   \n",
    "   3) lists-- (sequence of multiple values which are declared inside the [] that is called lists) for example::::         \n",
    "    [1,2.45543,'python','game']....\n",
    "   \n",
    "   4)Tuples -- sequence of multiple values which are declared inside the ()  for example (1,2.45543,'python','game')....\n",
    "   \n",
    "   5) dictionary--  sequence of key value pairs seperated with comma(,) which are declared inside {}\n",
    "   \n",
    "        declaration:::::: {key:values,key:values}\n",
    "                                          ex::    {'state': 'ts','tn','ap','city': 'hyd '}\n",
    "                                                  {'username':'hari@123','pwd':'123456'}\n",
    "                                                  \n",
    "    6) sets -- same sequence of values   which are declared inside {}\n",
    "    \n",
    "                    sets will not contain duplicate at anycost\n",
    "                    \n",
    "                        ex::::: {1,2.45543,'python','game'}\n",
    "     \n",
    "                                                  \n",
    "                                                  "
   ]
  },
  {
   "cell_type": "code",
   "execution_count": 1,
   "metadata": {},
   "outputs": [
    {
     "data": {
      "text/plain": [
       "int"
      ]
     },
     "execution_count": 1,
     "metadata": {},
     "output_type": "execute_result"
    }
   ],
   "source": [
    "a=45\n",
    "type(a)\n"
   ]
  },
  {
   "cell_type": "code",
   "execution_count": 2,
   "metadata": {},
   "outputs": [
    {
     "data": {
      "text/plain": [
       "float"
      ]
     },
     "execution_count": 2,
     "metadata": {},
     "output_type": "execute_result"
    }
   ],
   "source": [
    "a=45.33333666654151242\n",
    "type(a)"
   ]
  },
  {
   "cell_type": "code",
   "execution_count": null,
   "metadata": {},
   "outputs": [],
   "source": []
  }
 ],
 "metadata": {
  "kernelspec": {
   "display_name": "Python 3",
   "language": "python",
   "name": "python3"
  },
  "language_info": {
   "codemirror_mode": {
    "name": "ipython",
    "version": 3
   },
   "file_extension": ".py",
   "mimetype": "text/x-python",
   "name": "python",
   "nbconvert_exporter": "python",
   "pygments_lexer": "ipython3",
   "version": "3.7.4"
  }
 },
 "nbformat": 4,
 "nbformat_minor": 2
}
