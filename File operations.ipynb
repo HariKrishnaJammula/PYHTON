{
 "cells": [
  {
   "cell_type": "markdown",
   "metadata": {},
   "source": [
    "# File Operations -- Performing reading ,writing and appending on file.."
   ]
  },
  {
   "cell_type": "markdown",
   "metadata": {},
   "source": [
    "## txt,.py,.csv.xlsx,.json\n",
    "\n",
    "## 2 ways to open a file.."
   ]
  },
  {
   "cell_type": "code",
   "execution_count": null,
   "metadata": {},
   "outputs": [],
   "source": [
    "# 1st Way:\n",
    "    # variable = open(\"pathof file\",modetoopen)\n",
    "\n",
    "# 3 modes to open a file\n",
    "    # read -- r\n",
    "    # write -- w\n",
    "    # append -- a\n",
    "\n",
    "# file = open(\"C:\\\\Users\\\\sreddy\\\\Downloads\\\\sample-10am.txt\",'r')\n",
    "\n",
    "# file.close()\n",
    "# print(file.closed)"
   ]
  },
  {
   "cell_type": "code",
   "execution_count": 8,
   "metadata": {},
   "outputs": [],
   "source": [
    "file=open(\"C:\\\\Users\\\\hari\\\\Downloads\\\\Sample.txt\",\"r\")"
   ]
  },
  {
   "cell_type": "code",
   "execution_count": 10,
   "metadata": {},
   "outputs": [
    {
     "name": "stdout",
     "output_type": "stream",
     "text": [
      "True\n"
     ]
    }
   ],
   "source": [
    "file.close()\n",
    "print(file.closed)"
   ]
  },
  {
   "cell_type": "markdown",
   "metadata": {},
   "source": [
    "# 2nd Way:\n",
    "\n",
    "\"\"\"\n",
    "with open(path of fiile, mode) as object:\n",
    "    statements\n",
    "\"\"\""
   ]
  },
  {
   "cell_type": "code",
   "execution_count": 13,
   "metadata": {},
   "outputs": [
    {
     "name": "stdout",
     "output_type": "stream",
     "text": [
      "<_io.TextIOWrapper name='C:\\\\Users\\\\hari\\\\Downloads\\\\Sample.txt' mode='r' encoding='cp1252'>\n",
      "True\n"
     ]
    }
   ],
   "source": [
    " with open(\"C:\\\\Users\\\\hari\\\\Downloads\\\\Sample.txt\",'r') as file:\n",
    "        print(file)\n",
    "\n",
    "print(file.closed)"
   ]
  },
  {
   "cell_type": "code",
   "execution_count": null,
   "metadata": {},
   "outputs": [],
   "source": []
  },
  {
   "cell_type": "code",
   "execution_count": null,
   "metadata": {},
   "outputs": [],
   "source": [
    "\n",
    "\n",
    "\n",
    "\n",
    "\n",
    "\n",
    "\n",
    "# Reading -- 'r'\n",
    "    # read - will read all the content in the file. But will read it by letter by letter...\n",
    "    # readline - will read 1 line at atime..\n",
    "    # readlines - Will read all the content line by line and return a list of elements where each element is one line inside the file...\n",
    "\n",
    "# with open(\"C:\\\\Users\\\\sreddy\\\\Downloads\\\\sample-10am.txt\",'r') as file:\n",
    "    # print(file.read())\n",
    "    # for j in file.read():\n",
    "    #     print(j)\n",
    "    # print(file.readline())\n",
    "    # for j in file.readline():\n",
    "    #     print(j)\n",
    "    # print(file.readline())\n",
    "    # print(file.readlines())\n",
    "    # print(file.readlines()[2])\n",
    "    # read_line = file.readlines()\n",
    "    # for line in read_line:\n",
    "    #     if \"Python\" in line:\n",
    "    #         print(read_line.index(line))\n",
    "    # print(file.readlines().index('Ipl is postponed due to carona.\\n'))\n",
    "\n",
    "# Writing ---- overwriting the previous content and adding only the new content...\n",
    "# Writing can automatically create the file if the file not existed..\n",
    "    # write\n",
    "    # writelines"
   ]
  }
 ],
 "metadata": {
  "kernelspec": {
   "display_name": "Python 3",
   "language": "python",
   "name": "python3"
  },
  "language_info": {
   "codemirror_mode": {
    "name": "ipython",
    "version": 3
   },
   "file_extension": ".py",
   "mimetype": "text/x-python",
   "name": "python",
   "nbconvert_exporter": "python",
   "pygments_lexer": "ipython3",
   "version": "3.7.4"
  }
 },
 "nbformat": 4,
 "nbformat_minor": 2
}
